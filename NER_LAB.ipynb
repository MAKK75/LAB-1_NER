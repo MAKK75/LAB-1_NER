{
  "nbformat": 4,
  "nbformat_minor": 0,
  "metadata": {
    "colab": {
      "provenance": []
    },
    "kernelspec": {
      "name": "python3",
      "display_name": "Python 3"
    },
    "language_info": {
      "name": "python"
    },
    "widgets": {
      "application/vnd.jupyter.widget-state+json": {
        "6fbd663925c64a998f2a96e5ed9522d9": {
          "model_module": "@jupyter-widgets/controls",
          "model_name": "HBoxModel",
          "model_module_version": "1.5.0",
          "state": {
            "_dom_classes": [],
            "_model_module": "@jupyter-widgets/controls",
            "_model_module_version": "1.5.0",
            "_model_name": "HBoxModel",
            "_view_count": null,
            "_view_module": "@jupyter-widgets/controls",
            "_view_module_version": "1.5.0",
            "_view_name": "HBoxView",
            "box_style": "",
            "children": [
              "IPY_MODEL_38d935c2b7224ec8ac694049e5ed2c9f",
              "IPY_MODEL_acceeeb8e78441bf86a725918874ec27",
              "IPY_MODEL_9c7346e00c6a481daa982cf272a38c11"
            ],
            "layout": "IPY_MODEL_21db617581934270a122e104aea6e012"
          }
        },
        "38d935c2b7224ec8ac694049e5ed2c9f": {
          "model_module": "@jupyter-widgets/controls",
          "model_name": "HTMLModel",
          "model_module_version": "1.5.0",
          "state": {
            "_dom_classes": [],
            "_model_module": "@jupyter-widgets/controls",
            "_model_module_version": "1.5.0",
            "_model_name": "HTMLModel",
            "_view_count": null,
            "_view_module": "@jupyter-widgets/controls",
            "_view_module_version": "1.5.0",
            "_view_name": "HTMLView",
            "description": "",
            "description_tooltip": null,
            "layout": "IPY_MODEL_c8a53da2f9f84189bfcb8efb78fdb879",
            "placeholder": "​",
            "style": "IPY_MODEL_ddc7ca426101422fafc71e210d319dd5",
            "value": "README.md: "
          }
        },
        "acceeeb8e78441bf86a725918874ec27": {
          "model_module": "@jupyter-widgets/controls",
          "model_name": "FloatProgressModel",
          "model_module_version": "1.5.0",
          "state": {
            "_dom_classes": [],
            "_model_module": "@jupyter-widgets/controls",
            "_model_module_version": "1.5.0",
            "_model_name": "FloatProgressModel",
            "_view_count": null,
            "_view_module": "@jupyter-widgets/controls",
            "_view_module_version": "1.5.0",
            "_view_name": "ProgressView",
            "bar_style": "success",
            "description": "",
            "description_tooltip": null,
            "layout": "IPY_MODEL_7545403409264ed78dbdb8cb485e13c3",
            "max": 1,
            "min": 0,
            "orientation": "horizontal",
            "style": "IPY_MODEL_0839bd2e2ba747649df060fdc6ad25ea",
            "value": 1
          }
        },
        "9c7346e00c6a481daa982cf272a38c11": {
          "model_module": "@jupyter-widgets/controls",
          "model_name": "HTMLModel",
          "model_module_version": "1.5.0",
          "state": {
            "_dom_classes": [],
            "_model_module": "@jupyter-widgets/controls",
            "_model_module_version": "1.5.0",
            "_model_name": "HTMLModel",
            "_view_count": null,
            "_view_module": "@jupyter-widgets/controls",
            "_view_module_version": "1.5.0",
            "_view_name": "HTMLView",
            "description": "",
            "description_tooltip": null,
            "layout": "IPY_MODEL_5ae270c9c65a4f54bc59141e0e2fa24b",
            "placeholder": "​",
            "style": "IPY_MODEL_c48b52d245e4452cbe58c3109c8152c0",
            "value": " 1.95k/? [00:00&lt;00:00, 69.9kB/s]"
          }
        },
        "21db617581934270a122e104aea6e012": {
          "model_module": "@jupyter-widgets/base",
          "model_name": "LayoutModel",
          "model_module_version": "1.2.0",
          "state": {
            "_model_module": "@jupyter-widgets/base",
            "_model_module_version": "1.2.0",
            "_model_name": "LayoutModel",
            "_view_count": null,
            "_view_module": "@jupyter-widgets/base",
            "_view_module_version": "1.2.0",
            "_view_name": "LayoutView",
            "align_content": null,
            "align_items": null,
            "align_self": null,
            "border": null,
            "bottom": null,
            "display": null,
            "flex": null,
            "flex_flow": null,
            "grid_area": null,
            "grid_auto_columns": null,
            "grid_auto_flow": null,
            "grid_auto_rows": null,
            "grid_column": null,
            "grid_gap": null,
            "grid_row": null,
            "grid_template_areas": null,
            "grid_template_columns": null,
            "grid_template_rows": null,
            "height": null,
            "justify_content": null,
            "justify_items": null,
            "left": null,
            "margin": null,
            "max_height": null,
            "max_width": null,
            "min_height": null,
            "min_width": null,
            "object_fit": null,
            "object_position": null,
            "order": null,
            "overflow": null,
            "overflow_x": null,
            "overflow_y": null,
            "padding": null,
            "right": null,
            "top": null,
            "visibility": null,
            "width": null
          }
        },
        "c8a53da2f9f84189bfcb8efb78fdb879": {
          "model_module": "@jupyter-widgets/base",
          "model_name": "LayoutModel",
          "model_module_version": "1.2.0",
          "state": {
            "_model_module": "@jupyter-widgets/base",
            "_model_module_version": "1.2.0",
            "_model_name": "LayoutModel",
            "_view_count": null,
            "_view_module": "@jupyter-widgets/base",
            "_view_module_version": "1.2.0",
            "_view_name": "LayoutView",
            "align_content": null,
            "align_items": null,
            "align_self": null,
            "border": null,
            "bottom": null,
            "display": null,
            "flex": null,
            "flex_flow": null,
            "grid_area": null,
            "grid_auto_columns": null,
            "grid_auto_flow": null,
            "grid_auto_rows": null,
            "grid_column": null,
            "grid_gap": null,
            "grid_row": null,
            "grid_template_areas": null,
            "grid_template_columns": null,
            "grid_template_rows": null,
            "height": null,
            "justify_content": null,
            "justify_items": null,
            "left": null,
            "margin": null,
            "max_height": null,
            "max_width": null,
            "min_height": null,
            "min_width": null,
            "object_fit": null,
            "object_position": null,
            "order": null,
            "overflow": null,
            "overflow_x": null,
            "overflow_y": null,
            "padding": null,
            "right": null,
            "top": null,
            "visibility": null,
            "width": null
          }
        },
        "ddc7ca426101422fafc71e210d319dd5": {
          "model_module": "@jupyter-widgets/controls",
          "model_name": "DescriptionStyleModel",
          "model_module_version": "1.5.0",
          "state": {
            "_model_module": "@jupyter-widgets/controls",
            "_model_module_version": "1.5.0",
            "_model_name": "DescriptionStyleModel",
            "_view_count": null,
            "_view_module": "@jupyter-widgets/base",
            "_view_module_version": "1.2.0",
            "_view_name": "StyleView",
            "description_width": ""
          }
        },
        "7545403409264ed78dbdb8cb485e13c3": {
          "model_module": "@jupyter-widgets/base",
          "model_name": "LayoutModel",
          "model_module_version": "1.2.0",
          "state": {
            "_model_module": "@jupyter-widgets/base",
            "_model_module_version": "1.2.0",
            "_model_name": "LayoutModel",
            "_view_count": null,
            "_view_module": "@jupyter-widgets/base",
            "_view_module_version": "1.2.0",
            "_view_name": "LayoutView",
            "align_content": null,
            "align_items": null,
            "align_self": null,
            "border": null,
            "bottom": null,
            "display": null,
            "flex": null,
            "flex_flow": null,
            "grid_area": null,
            "grid_auto_columns": null,
            "grid_auto_flow": null,
            "grid_auto_rows": null,
            "grid_column": null,
            "grid_gap": null,
            "grid_row": null,
            "grid_template_areas": null,
            "grid_template_columns": null,
            "grid_template_rows": null,
            "height": null,
            "justify_content": null,
            "justify_items": null,
            "left": null,
            "margin": null,
            "max_height": null,
            "max_width": null,
            "min_height": null,
            "min_width": null,
            "object_fit": null,
            "object_position": null,
            "order": null,
            "overflow": null,
            "overflow_x": null,
            "overflow_y": null,
            "padding": null,
            "right": null,
            "top": null,
            "visibility": null,
            "width": "20px"
          }
        },
        "0839bd2e2ba747649df060fdc6ad25ea": {
          "model_module": "@jupyter-widgets/controls",
          "model_name": "ProgressStyleModel",
          "model_module_version": "1.5.0",
          "state": {
            "_model_module": "@jupyter-widgets/controls",
            "_model_module_version": "1.5.0",
            "_model_name": "ProgressStyleModel",
            "_view_count": null,
            "_view_module": "@jupyter-widgets/base",
            "_view_module_version": "1.2.0",
            "_view_name": "StyleView",
            "bar_color": null,
            "description_width": ""
          }
        },
        "5ae270c9c65a4f54bc59141e0e2fa24b": {
          "model_module": "@jupyter-widgets/base",
          "model_name": "LayoutModel",
          "model_module_version": "1.2.0",
          "state": {
            "_model_module": "@jupyter-widgets/base",
            "_model_module_version": "1.2.0",
            "_model_name": "LayoutModel",
            "_view_count": null,
            "_view_module": "@jupyter-widgets/base",
            "_view_module_version": "1.2.0",
            "_view_name": "LayoutView",
            "align_content": null,
            "align_items": null,
            "align_self": null,
            "border": null,
            "bottom": null,
            "display": null,
            "flex": null,
            "flex_flow": null,
            "grid_area": null,
            "grid_auto_columns": null,
            "grid_auto_flow": null,
            "grid_auto_rows": null,
            "grid_column": null,
            "grid_gap": null,
            "grid_row": null,
            "grid_template_areas": null,
            "grid_template_columns": null,
            "grid_template_rows": null,
            "height": null,
            "justify_content": null,
            "justify_items": null,
            "left": null,
            "margin": null,
            "max_height": null,
            "max_width": null,
            "min_height": null,
            "min_width": null,
            "object_fit": null,
            "object_position": null,
            "order": null,
            "overflow": null,
            "overflow_x": null,
            "overflow_y": null,
            "padding": null,
            "right": null,
            "top": null,
            "visibility": null,
            "width": null
          }
        },
        "c48b52d245e4452cbe58c3109c8152c0": {
          "model_module": "@jupyter-widgets/controls",
          "model_name": "DescriptionStyleModel",
          "model_module_version": "1.5.0",
          "state": {
            "_model_module": "@jupyter-widgets/controls",
            "_model_module_version": "1.5.0",
            "_model_name": "DescriptionStyleModel",
            "_view_count": null,
            "_view_module": "@jupyter-widgets/base",
            "_view_module_version": "1.2.0",
            "_view_name": "StyleView",
            "description_width": ""
          }
        },
        "34c870580a4e4f839c6ac31afdfe00b4": {
          "model_module": "@jupyter-widgets/controls",
          "model_name": "HBoxModel",
          "model_module_version": "1.5.0",
          "state": {
            "_dom_classes": [],
            "_model_module": "@jupyter-widgets/controls",
            "_model_module_version": "1.5.0",
            "_model_name": "HBoxModel",
            "_view_count": null,
            "_view_module": "@jupyter-widgets/controls",
            "_view_module_version": "1.5.0",
            "_view_name": "HBoxView",
            "box_style": "",
            "children": [
              "IPY_MODEL_e4809be7483d49b4bb4cea3af26890e2",
              "IPY_MODEL_cc341836f5db498aaa4143c2750749d9",
              "IPY_MODEL_7d1ee419c4ee4b939f3e42468bbc66b4"
            ],
            "layout": "IPY_MODEL_a5021dc800644b96b79bb301af32cc60"
          }
        },
        "e4809be7483d49b4bb4cea3af26890e2": {
          "model_module": "@jupyter-widgets/controls",
          "model_name": "HTMLModel",
          "model_module_version": "1.5.0",
          "state": {
            "_dom_classes": [],
            "_model_module": "@jupyter-widgets/controls",
            "_model_module_version": "1.5.0",
            "_model_name": "HTMLModel",
            "_view_count": null,
            "_view_module": "@jupyter-widgets/controls",
            "_view_module_version": "1.5.0",
            "_view_name": "HTMLView",
            "description": "",
            "description_tooltip": null,
            "layout": "IPY_MODEL_ebbf7c98cc834d1388e5eb6978ca7878",
            "placeholder": "​",
            "style": "IPY_MODEL_d5e69d83d74d44069c756cdfeaaa5fa3",
            "value": "data/ru/train.parquet: 100%"
          }
        },
        "cc341836f5db498aaa4143c2750749d9": {
          "model_module": "@jupyter-widgets/controls",
          "model_name": "FloatProgressModel",
          "model_module_version": "1.5.0",
          "state": {
            "_dom_classes": [],
            "_model_module": "@jupyter-widgets/controls",
            "_model_module_version": "1.5.0",
            "_model_name": "FloatProgressModel",
            "_view_count": null,
            "_view_module": "@jupyter-widgets/controls",
            "_view_module_version": "1.5.0",
            "_view_name": "ProgressView",
            "bar_style": "success",
            "description": "",
            "description_tooltip": null,
            "layout": "IPY_MODEL_b85a863bdb9c41089840c7530bdc433c",
            "max": 20782238,
            "min": 0,
            "orientation": "horizontal",
            "style": "IPY_MODEL_4c046d55f0074065845043b5eca65b36",
            "value": 20782238
          }
        },
        "7d1ee419c4ee4b939f3e42468bbc66b4": {
          "model_module": "@jupyter-widgets/controls",
          "model_name": "HTMLModel",
          "model_module_version": "1.5.0",
          "state": {
            "_dom_classes": [],
            "_model_module": "@jupyter-widgets/controls",
            "_model_module_version": "1.5.0",
            "_model_name": "HTMLModel",
            "_view_count": null,
            "_view_module": "@jupyter-widgets/controls",
            "_view_module_version": "1.5.0",
            "_view_name": "HTMLView",
            "description": "",
            "description_tooltip": null,
            "layout": "IPY_MODEL_8f6f85158e0845949756aa87f8b47d17",
            "placeholder": "​",
            "style": "IPY_MODEL_6c32b00f043649c09e85e960516606c6",
            "value": " 20.8M/20.8M [00:02&lt;00:00, 7.92MB/s]"
          }
        },
        "a5021dc800644b96b79bb301af32cc60": {
          "model_module": "@jupyter-widgets/base",
          "model_name": "LayoutModel",
          "model_module_version": "1.2.0",
          "state": {
            "_model_module": "@jupyter-widgets/base",
            "_model_module_version": "1.2.0",
            "_model_name": "LayoutModel",
            "_view_count": null,
            "_view_module": "@jupyter-widgets/base",
            "_view_module_version": "1.2.0",
            "_view_name": "LayoutView",
            "align_content": null,
            "align_items": null,
            "align_self": null,
            "border": null,
            "bottom": null,
            "display": null,
            "flex": null,
            "flex_flow": null,
            "grid_area": null,
            "grid_auto_columns": null,
            "grid_auto_flow": null,
            "grid_auto_rows": null,
            "grid_column": null,
            "grid_gap": null,
            "grid_row": null,
            "grid_template_areas": null,
            "grid_template_columns": null,
            "grid_template_rows": null,
            "height": null,
            "justify_content": null,
            "justify_items": null,
            "left": null,
            "margin": null,
            "max_height": null,
            "max_width": null,
            "min_height": null,
            "min_width": null,
            "object_fit": null,
            "object_position": null,
            "order": null,
            "overflow": null,
            "overflow_x": null,
            "overflow_y": null,
            "padding": null,
            "right": null,
            "top": null,
            "visibility": null,
            "width": null
          }
        },
        "ebbf7c98cc834d1388e5eb6978ca7878": {
          "model_module": "@jupyter-widgets/base",
          "model_name": "LayoutModel",
          "model_module_version": "1.2.0",
          "state": {
            "_model_module": "@jupyter-widgets/base",
            "_model_module_version": "1.2.0",
            "_model_name": "LayoutModel",
            "_view_count": null,
            "_view_module": "@jupyter-widgets/base",
            "_view_module_version": "1.2.0",
            "_view_name": "LayoutView",
            "align_content": null,
            "align_items": null,
            "align_self": null,
            "border": null,
            "bottom": null,
            "display": null,
            "flex": null,
            "flex_flow": null,
            "grid_area": null,
            "grid_auto_columns": null,
            "grid_auto_flow": null,
            "grid_auto_rows": null,
            "grid_column": null,
            "grid_gap": null,
            "grid_row": null,
            "grid_template_areas": null,
            "grid_template_columns": null,
            "grid_template_rows": null,
            "height": null,
            "justify_content": null,
            "justify_items": null,
            "left": null,
            "margin": null,
            "max_height": null,
            "max_width": null,
            "min_height": null,
            "min_width": null,
            "object_fit": null,
            "object_position": null,
            "order": null,
            "overflow": null,
            "overflow_x": null,
            "overflow_y": null,
            "padding": null,
            "right": null,
            "top": null,
            "visibility": null,
            "width": null
          }
        },
        "d5e69d83d74d44069c756cdfeaaa5fa3": {
          "model_module": "@jupyter-widgets/controls",
          "model_name": "DescriptionStyleModel",
          "model_module_version": "1.5.0",
          "state": {
            "_model_module": "@jupyter-widgets/controls",
            "_model_module_version": "1.5.0",
            "_model_name": "DescriptionStyleModel",
            "_view_count": null,
            "_view_module": "@jupyter-widgets/base",
            "_view_module_version": "1.2.0",
            "_view_name": "StyleView",
            "description_width": ""
          }
        },
        "b85a863bdb9c41089840c7530bdc433c": {
          "model_module": "@jupyter-widgets/base",
          "model_name": "LayoutModel",
          "model_module_version": "1.2.0",
          "state": {
            "_model_module": "@jupyter-widgets/base",
            "_model_module_version": "1.2.0",
            "_model_name": "LayoutModel",
            "_view_count": null,
            "_view_module": "@jupyter-widgets/base",
            "_view_module_version": "1.2.0",
            "_view_name": "LayoutView",
            "align_content": null,
            "align_items": null,
            "align_self": null,
            "border": null,
            "bottom": null,
            "display": null,
            "flex": null,
            "flex_flow": null,
            "grid_area": null,
            "grid_auto_columns": null,
            "grid_auto_flow": null,
            "grid_auto_rows": null,
            "grid_column": null,
            "grid_gap": null,
            "grid_row": null,
            "grid_template_areas": null,
            "grid_template_columns": null,
            "grid_template_rows": null,
            "height": null,
            "justify_content": null,
            "justify_items": null,
            "left": null,
            "margin": null,
            "max_height": null,
            "max_width": null,
            "min_height": null,
            "min_width": null,
            "object_fit": null,
            "object_position": null,
            "order": null,
            "overflow": null,
            "overflow_x": null,
            "overflow_y": null,
            "padding": null,
            "right": null,
            "top": null,
            "visibility": null,
            "width": null
          }
        },
        "4c046d55f0074065845043b5eca65b36": {
          "model_module": "@jupyter-widgets/controls",
          "model_name": "ProgressStyleModel",
          "model_module_version": "1.5.0",
          "state": {
            "_model_module": "@jupyter-widgets/controls",
            "_model_module_version": "1.5.0",
            "_model_name": "ProgressStyleModel",
            "_view_count": null,
            "_view_module": "@jupyter-widgets/base",
            "_view_module_version": "1.2.0",
            "_view_name": "StyleView",
            "bar_color": null,
            "description_width": ""
          }
        },
        "8f6f85158e0845949756aa87f8b47d17": {
          "model_module": "@jupyter-widgets/base",
          "model_name": "LayoutModel",
          "model_module_version": "1.2.0",
          "state": {
            "_model_module": "@jupyter-widgets/base",
            "_model_module_version": "1.2.0",
            "_model_name": "LayoutModel",
            "_view_count": null,
            "_view_module": "@jupyter-widgets/base",
            "_view_module_version": "1.2.0",
            "_view_name": "LayoutView",
            "align_content": null,
            "align_items": null,
            "align_self": null,
            "border": null,
            "bottom": null,
            "display": null,
            "flex": null,
            "flex_flow": null,
            "grid_area": null,
            "grid_auto_columns": null,
            "grid_auto_flow": null,
            "grid_auto_rows": null,
            "grid_column": null,
            "grid_gap": null,
            "grid_row": null,
            "grid_template_areas": null,
            "grid_template_columns": null,
            "grid_template_rows": null,
            "height": null,
            "justify_content": null,
            "justify_items": null,
            "left": null,
            "margin": null,
            "max_height": null,
            "max_width": null,
            "min_height": null,
            "min_width": null,
            "object_fit": null,
            "object_position": null,
            "order": null,
            "overflow": null,
            "overflow_x": null,
            "overflow_y": null,
            "padding": null,
            "right": null,
            "top": null,
            "visibility": null,
            "width": null
          }
        },
        "6c32b00f043649c09e85e960516606c6": {
          "model_module": "@jupyter-widgets/controls",
          "model_name": "DescriptionStyleModel",
          "model_module_version": "1.5.0",
          "state": {
            "_model_module": "@jupyter-widgets/controls",
            "_model_module_version": "1.5.0",
            "_model_name": "DescriptionStyleModel",
            "_view_count": null,
            "_view_module": "@jupyter-widgets/base",
            "_view_module_version": "1.2.0",
            "_view_name": "StyleView",
            "description_width": ""
          }
        },
        "57ea7a7121ac462c95833eff6f0184ae": {
          "model_module": "@jupyter-widgets/controls",
          "model_name": "HBoxModel",
          "model_module_version": "1.5.0",
          "state": {
            "_dom_classes": [],
            "_model_module": "@jupyter-widgets/controls",
            "_model_module_version": "1.5.0",
            "_model_name": "HBoxModel",
            "_view_count": null,
            "_view_module": "@jupyter-widgets/controls",
            "_view_module_version": "1.5.0",
            "_view_name": "HBoxView",
            "box_style": "",
            "children": [
              "IPY_MODEL_9a5bf5887c43428d89ffe85cfa23ade3",
              "IPY_MODEL_56bd930ca3f345deaaacda0d931884b3",
              "IPY_MODEL_40ba0c7051bc4c01ada42abbf689ecd7"
            ],
            "layout": "IPY_MODEL_df10a8a100d84a8fa067c6acda740111"
          }
        },
        "9a5bf5887c43428d89ffe85cfa23ade3": {
          "model_module": "@jupyter-widgets/controls",
          "model_name": "HTMLModel",
          "model_module_version": "1.5.0",
          "state": {
            "_dom_classes": [],
            "_model_module": "@jupyter-widgets/controls",
            "_model_module_version": "1.5.0",
            "_model_name": "HTMLModel",
            "_view_count": null,
            "_view_module": "@jupyter-widgets/controls",
            "_view_module_version": "1.5.0",
            "_view_name": "HTMLView",
            "description": "",
            "description_tooltip": null,
            "layout": "IPY_MODEL_804657f9dc61431cadae2d8de2cb4636",
            "placeholder": "​",
            "style": "IPY_MODEL_9f54d990df95439ea794b2d05a6d951d",
            "value": "data/ru/test.parquet: 100%"
          }
        },
        "56bd930ca3f345deaaacda0d931884b3": {
          "model_module": "@jupyter-widgets/controls",
          "model_name": "FloatProgressModel",
          "model_module_version": "1.5.0",
          "state": {
            "_dom_classes": [],
            "_model_module": "@jupyter-widgets/controls",
            "_model_module_version": "1.5.0",
            "_model_name": "FloatProgressModel",
            "_view_count": null,
            "_view_module": "@jupyter-widgets/controls",
            "_view_module_version": "1.5.0",
            "_view_name": "ProgressView",
            "bar_style": "success",
            "description": "",
            "description_tooltip": null,
            "layout": "IPY_MODEL_7981fc5621b34993b8bc2e62cfe53350",
            "max": 2273636,
            "min": 0,
            "orientation": "horizontal",
            "style": "IPY_MODEL_5b2b1483257241c7a36d8ab4f6612479",
            "value": 2273636
          }
        },
        "40ba0c7051bc4c01ada42abbf689ecd7": {
          "model_module": "@jupyter-widgets/controls",
          "model_name": "HTMLModel",
          "model_module_version": "1.5.0",
          "state": {
            "_dom_classes": [],
            "_model_module": "@jupyter-widgets/controls",
            "_model_module_version": "1.5.0",
            "_model_name": "HTMLModel",
            "_view_count": null,
            "_view_module": "@jupyter-widgets/controls",
            "_view_module_version": "1.5.0",
            "_view_name": "HTMLView",
            "description": "",
            "description_tooltip": null,
            "layout": "IPY_MODEL_73dab47818f145aa8c1b5ffb62234e17",
            "placeholder": "​",
            "style": "IPY_MODEL_e552959d126a484f9a2a81c095fa5ff7",
            "value": " 2.27M/2.27M [00:01&lt;00:00, 1.72MB/s]"
          }
        },
        "df10a8a100d84a8fa067c6acda740111": {
          "model_module": "@jupyter-widgets/base",
          "model_name": "LayoutModel",
          "model_module_version": "1.2.0",
          "state": {
            "_model_module": "@jupyter-widgets/base",
            "_model_module_version": "1.2.0",
            "_model_name": "LayoutModel",
            "_view_count": null,
            "_view_module": "@jupyter-widgets/base",
            "_view_module_version": "1.2.0",
            "_view_name": "LayoutView",
            "align_content": null,
            "align_items": null,
            "align_self": null,
            "border": null,
            "bottom": null,
            "display": null,
            "flex": null,
            "flex_flow": null,
            "grid_area": null,
            "grid_auto_columns": null,
            "grid_auto_flow": null,
            "grid_auto_rows": null,
            "grid_column": null,
            "grid_gap": null,
            "grid_row": null,
            "grid_template_areas": null,
            "grid_template_columns": null,
            "grid_template_rows": null,
            "height": null,
            "justify_content": null,
            "justify_items": null,
            "left": null,
            "margin": null,
            "max_height": null,
            "max_width": null,
            "min_height": null,
            "min_width": null,
            "object_fit": null,
            "object_position": null,
            "order": null,
            "overflow": null,
            "overflow_x": null,
            "overflow_y": null,
            "padding": null,
            "right": null,
            "top": null,
            "visibility": null,
            "width": null
          }
        },
        "804657f9dc61431cadae2d8de2cb4636": {
          "model_module": "@jupyter-widgets/base",
          "model_name": "LayoutModel",
          "model_module_version": "1.2.0",
          "state": {
            "_model_module": "@jupyter-widgets/base",
            "_model_module_version": "1.2.0",
            "_model_name": "LayoutModel",
            "_view_count": null,
            "_view_module": "@jupyter-widgets/base",
            "_view_module_version": "1.2.0",
            "_view_name": "LayoutView",
            "align_content": null,
            "align_items": null,
            "align_self": null,
            "border": null,
            "bottom": null,
            "display": null,
            "flex": null,
            "flex_flow": null,
            "grid_area": null,
            "grid_auto_columns": null,
            "grid_auto_flow": null,
            "grid_auto_rows": null,
            "grid_column": null,
            "grid_gap": null,
            "grid_row": null,
            "grid_template_areas": null,
            "grid_template_columns": null,
            "grid_template_rows": null,
            "height": null,
            "justify_content": null,
            "justify_items": null,
            "left": null,
            "margin": null,
            "max_height": null,
            "max_width": null,
            "min_height": null,
            "min_width": null,
            "object_fit": null,
            "object_position": null,
            "order": null,
            "overflow": null,
            "overflow_x": null,
            "overflow_y": null,
            "padding": null,
            "right": null,
            "top": null,
            "visibility": null,
            "width": null
          }
        },
        "9f54d990df95439ea794b2d05a6d951d": {
          "model_module": "@jupyter-widgets/controls",
          "model_name": "DescriptionStyleModel",
          "model_module_version": "1.5.0",
          "state": {
            "_model_module": "@jupyter-widgets/controls",
            "_model_module_version": "1.5.0",
            "_model_name": "DescriptionStyleModel",
            "_view_count": null,
            "_view_module": "@jupyter-widgets/base",
            "_view_module_version": "1.2.0",
            "_view_name": "StyleView",
            "description_width": ""
          }
        },
        "7981fc5621b34993b8bc2e62cfe53350": {
          "model_module": "@jupyter-widgets/base",
          "model_name": "LayoutModel",
          "model_module_version": "1.2.0",
          "state": {
            "_model_module": "@jupyter-widgets/base",
            "_model_module_version": "1.2.0",
            "_model_name": "LayoutModel",
            "_view_count": null,
            "_view_module": "@jupyter-widgets/base",
            "_view_module_version": "1.2.0",
            "_view_name": "LayoutView",
            "align_content": null,
            "align_items": null,
            "align_self": null,
            "border": null,
            "bottom": null,
            "display": null,
            "flex": null,
            "flex_flow": null,
            "grid_area": null,
            "grid_auto_columns": null,
            "grid_auto_flow": null,
            "grid_auto_rows": null,
            "grid_column": null,
            "grid_gap": null,
            "grid_row": null,
            "grid_template_areas": null,
            "grid_template_columns": null,
            "grid_template_rows": null,
            "height": null,
            "justify_content": null,
            "justify_items": null,
            "left": null,
            "margin": null,
            "max_height": null,
            "max_width": null,
            "min_height": null,
            "min_width": null,
            "object_fit": null,
            "object_position": null,
            "order": null,
            "overflow": null,
            "overflow_x": null,
            "overflow_y": null,
            "padding": null,
            "right": null,
            "top": null,
            "visibility": null,
            "width": null
          }
        },
        "5b2b1483257241c7a36d8ab4f6612479": {
          "model_module": "@jupyter-widgets/controls",
          "model_name": "ProgressStyleModel",
          "model_module_version": "1.5.0",
          "state": {
            "_model_module": "@jupyter-widgets/controls",
            "_model_module_version": "1.5.0",
            "_model_name": "ProgressStyleModel",
            "_view_count": null,
            "_view_module": "@jupyter-widgets/base",
            "_view_module_version": "1.2.0",
            "_view_name": "StyleView",
            "bar_color": null,
            "description_width": ""
          }
        },
        "73dab47818f145aa8c1b5ffb62234e17": {
          "model_module": "@jupyter-widgets/base",
          "model_name": "LayoutModel",
          "model_module_version": "1.2.0",
          "state": {
            "_model_module": "@jupyter-widgets/base",
            "_model_module_version": "1.2.0",
            "_model_name": "LayoutModel",
            "_view_count": null,
            "_view_module": "@jupyter-widgets/base",
            "_view_module_version": "1.2.0",
            "_view_name": "LayoutView",
            "align_content": null,
            "align_items": null,
            "align_self": null,
            "border": null,
            "bottom": null,
            "display": null,
            "flex": null,
            "flex_flow": null,
            "grid_area": null,
            "grid_auto_columns": null,
            "grid_auto_flow": null,
            "grid_auto_rows": null,
            "grid_column": null,
            "grid_gap": null,
            "grid_row": null,
            "grid_template_areas": null,
            "grid_template_columns": null,
            "grid_template_rows": null,
            "height": null,
            "justify_content": null,
            "justify_items": null,
            "left": null,
            "margin": null,
            "max_height": null,
            "max_width": null,
            "min_height": null,
            "min_width": null,
            "object_fit": null,
            "object_position": null,
            "order": null,
            "overflow": null,
            "overflow_x": null,
            "overflow_y": null,
            "padding": null,
            "right": null,
            "top": null,
            "visibility": null,
            "width": null
          }
        },
        "e552959d126a484f9a2a81c095fa5ff7": {
          "model_module": "@jupyter-widgets/controls",
          "model_name": "DescriptionStyleModel",
          "model_module_version": "1.5.0",
          "state": {
            "_model_module": "@jupyter-widgets/controls",
            "_model_module_version": "1.5.0",
            "_model_name": "DescriptionStyleModel",
            "_view_count": null,
            "_view_module": "@jupyter-widgets/base",
            "_view_module_version": "1.2.0",
            "_view_name": "StyleView",
            "description_width": ""
          }
        },
        "64c3d0cd7fdc408e88bb8b1eae6dec7d": {
          "model_module": "@jupyter-widgets/controls",
          "model_name": "HBoxModel",
          "model_module_version": "1.5.0",
          "state": {
            "_dom_classes": [],
            "_model_module": "@jupyter-widgets/controls",
            "_model_module_version": "1.5.0",
            "_model_name": "HBoxModel",
            "_view_count": null,
            "_view_module": "@jupyter-widgets/controls",
            "_view_module_version": "1.5.0",
            "_view_name": "HBoxView",
            "box_style": "",
            "children": [
              "IPY_MODEL_1c9051f9f68b4baa83d8890c2d60c2e5",
              "IPY_MODEL_70b0da4fcce64da5a390158b84ca1a91",
              "IPY_MODEL_abcd40eb33c842dba1f97ac9f077ed22"
            ],
            "layout": "IPY_MODEL_471f51bec34b42c9a41836972c5a2823"
          }
        },
        "1c9051f9f68b4baa83d8890c2d60c2e5": {
          "model_module": "@jupyter-widgets/controls",
          "model_name": "HTMLModel",
          "model_module_version": "1.5.0",
          "state": {
            "_dom_classes": [],
            "_model_module": "@jupyter-widgets/controls",
            "_model_module_version": "1.5.0",
            "_model_name": "HTMLModel",
            "_view_count": null,
            "_view_module": "@jupyter-widgets/controls",
            "_view_module_version": "1.5.0",
            "_view_name": "HTMLView",
            "description": "",
            "description_tooltip": null,
            "layout": "IPY_MODEL_65efa19c4bcd401aae020a152a5a34c3",
            "placeholder": "​",
            "style": "IPY_MODEL_42b64b7ea8b647bd9d5dd0b411d61b1f",
            "value": "Generating train split: 100%"
          }
        },
        "70b0da4fcce64da5a390158b84ca1a91": {
          "model_module": "@jupyter-widgets/controls",
          "model_name": "FloatProgressModel",
          "model_module_version": "1.5.0",
          "state": {
            "_dom_classes": [],
            "_model_module": "@jupyter-widgets/controls",
            "_model_module_version": "1.5.0",
            "_model_name": "FloatProgressModel",
            "_view_count": null,
            "_view_module": "@jupyter-widgets/controls",
            "_view_module_version": "1.5.0",
            "_view_name": "ProgressView",
            "bar_style": "success",
            "description": "",
            "description_tooltip": null,
            "layout": "IPY_MODEL_b0fbd962bb2a40f6bb8026adb5437590",
            "max": 161238,
            "min": 0,
            "orientation": "horizontal",
            "style": "IPY_MODEL_183fd8da58984ce9b72ca61b5d463a35",
            "value": 161238
          }
        },
        "abcd40eb33c842dba1f97ac9f077ed22": {
          "model_module": "@jupyter-widgets/controls",
          "model_name": "HTMLModel",
          "model_module_version": "1.5.0",
          "state": {
            "_dom_classes": [],
            "_model_module": "@jupyter-widgets/controls",
            "_model_module_version": "1.5.0",
            "_model_name": "HTMLModel",
            "_view_count": null,
            "_view_module": "@jupyter-widgets/controls",
            "_view_module_version": "1.5.0",
            "_view_name": "HTMLView",
            "description": "",
            "description_tooltip": null,
            "layout": "IPY_MODEL_f33e483ff7b748daa3f17d846de7853e",
            "placeholder": "​",
            "style": "IPY_MODEL_ba8aec9b903445948fc0500a65444053",
            "value": " 161238/161238 [00:01&lt;00:00, 171568.92 examples/s]"
          }
        },
        "471f51bec34b42c9a41836972c5a2823": {
          "model_module": "@jupyter-widgets/base",
          "model_name": "LayoutModel",
          "model_module_version": "1.2.0",
          "state": {
            "_model_module": "@jupyter-widgets/base",
            "_model_module_version": "1.2.0",
            "_model_name": "LayoutModel",
            "_view_count": null,
            "_view_module": "@jupyter-widgets/base",
            "_view_module_version": "1.2.0",
            "_view_name": "LayoutView",
            "align_content": null,
            "align_items": null,
            "align_self": null,
            "border": null,
            "bottom": null,
            "display": null,
            "flex": null,
            "flex_flow": null,
            "grid_area": null,
            "grid_auto_columns": null,
            "grid_auto_flow": null,
            "grid_auto_rows": null,
            "grid_column": null,
            "grid_gap": null,
            "grid_row": null,
            "grid_template_areas": null,
            "grid_template_columns": null,
            "grid_template_rows": null,
            "height": null,
            "justify_content": null,
            "justify_items": null,
            "left": null,
            "margin": null,
            "max_height": null,
            "max_width": null,
            "min_height": null,
            "min_width": null,
            "object_fit": null,
            "object_position": null,
            "order": null,
            "overflow": null,
            "overflow_x": null,
            "overflow_y": null,
            "padding": null,
            "right": null,
            "top": null,
            "visibility": null,
            "width": null
          }
        },
        "65efa19c4bcd401aae020a152a5a34c3": {
          "model_module": "@jupyter-widgets/base",
          "model_name": "LayoutModel",
          "model_module_version": "1.2.0",
          "state": {
            "_model_module": "@jupyter-widgets/base",
            "_model_module_version": "1.2.0",
            "_model_name": "LayoutModel",
            "_view_count": null,
            "_view_module": "@jupyter-widgets/base",
            "_view_module_version": "1.2.0",
            "_view_name": "LayoutView",
            "align_content": null,
            "align_items": null,
            "align_self": null,
            "border": null,
            "bottom": null,
            "display": null,
            "flex": null,
            "flex_flow": null,
            "grid_area": null,
            "grid_auto_columns": null,
            "grid_auto_flow": null,
            "grid_auto_rows": null,
            "grid_column": null,
            "grid_gap": null,
            "grid_row": null,
            "grid_template_areas": null,
            "grid_template_columns": null,
            "grid_template_rows": null,
            "height": null,
            "justify_content": null,
            "justify_items": null,
            "left": null,
            "margin": null,
            "max_height": null,
            "max_width": null,
            "min_height": null,
            "min_width": null,
            "object_fit": null,
            "object_position": null,
            "order": null,
            "overflow": null,
            "overflow_x": null,
            "overflow_y": null,
            "padding": null,
            "right": null,
            "top": null,
            "visibility": null,
            "width": null
          }
        },
        "42b64b7ea8b647bd9d5dd0b411d61b1f": {
          "model_module": "@jupyter-widgets/controls",
          "model_name": "DescriptionStyleModel",
          "model_module_version": "1.5.0",
          "state": {
            "_model_module": "@jupyter-widgets/controls",
            "_model_module_version": "1.5.0",
            "_model_name": "DescriptionStyleModel",
            "_view_count": null,
            "_view_module": "@jupyter-widgets/base",
            "_view_module_version": "1.2.0",
            "_view_name": "StyleView",
            "description_width": ""
          }
        },
        "b0fbd962bb2a40f6bb8026adb5437590": {
          "model_module": "@jupyter-widgets/base",
          "model_name": "LayoutModel",
          "model_module_version": "1.2.0",
          "state": {
            "_model_module": "@jupyter-widgets/base",
            "_model_module_version": "1.2.0",
            "_model_name": "LayoutModel",
            "_view_count": null,
            "_view_module": "@jupyter-widgets/base",
            "_view_module_version": "1.2.0",
            "_view_name": "LayoutView",
            "align_content": null,
            "align_items": null,
            "align_self": null,
            "border": null,
            "bottom": null,
            "display": null,
            "flex": null,
            "flex_flow": null,
            "grid_area": null,
            "grid_auto_columns": null,
            "grid_auto_flow": null,
            "grid_auto_rows": null,
            "grid_column": null,
            "grid_gap": null,
            "grid_row": null,
            "grid_template_areas": null,
            "grid_template_columns": null,
            "grid_template_rows": null,
            "height": null,
            "justify_content": null,
            "justify_items": null,
            "left": null,
            "margin": null,
            "max_height": null,
            "max_width": null,
            "min_height": null,
            "min_width": null,
            "object_fit": null,
            "object_position": null,
            "order": null,
            "overflow": null,
            "overflow_x": null,
            "overflow_y": null,
            "padding": null,
            "right": null,
            "top": null,
            "visibility": null,
            "width": null
          }
        },
        "183fd8da58984ce9b72ca61b5d463a35": {
          "model_module": "@jupyter-widgets/controls",
          "model_name": "ProgressStyleModel",
          "model_module_version": "1.5.0",
          "state": {
            "_model_module": "@jupyter-widgets/controls",
            "_model_module_version": "1.5.0",
            "_model_name": "ProgressStyleModel",
            "_view_count": null,
            "_view_module": "@jupyter-widgets/base",
            "_view_module_version": "1.2.0",
            "_view_name": "StyleView",
            "bar_color": null,
            "description_width": ""
          }
        },
        "f33e483ff7b748daa3f17d846de7853e": {
          "model_module": "@jupyter-widgets/base",
          "model_name": "LayoutModel",
          "model_module_version": "1.2.0",
          "state": {
            "_model_module": "@jupyter-widgets/base",
            "_model_module_version": "1.2.0",
            "_model_name": "LayoutModel",
            "_view_count": null,
            "_view_module": "@jupyter-widgets/base",
            "_view_module_version": "1.2.0",
            "_view_name": "LayoutView",
            "align_content": null,
            "align_items": null,
            "align_self": null,
            "border": null,
            "bottom": null,
            "display": null,
            "flex": null,
            "flex_flow": null,
            "grid_area": null,
            "grid_auto_columns": null,
            "grid_auto_flow": null,
            "grid_auto_rows": null,
            "grid_column": null,
            "grid_gap": null,
            "grid_row": null,
            "grid_template_areas": null,
            "grid_template_columns": null,
            "grid_template_rows": null,
            "height": null,
            "justify_content": null,
            "justify_items": null,
            "left": null,
            "margin": null,
            "max_height": null,
            "max_width": null,
            "min_height": null,
            "min_width": null,
            "object_fit": null,
            "object_position": null,
            "order": null,
            "overflow": null,
            "overflow_x": null,
            "overflow_y": null,
            "padding": null,
            "right": null,
            "top": null,
            "visibility": null,
            "width": null
          }
        },
        "ba8aec9b903445948fc0500a65444053": {
          "model_module": "@jupyter-widgets/controls",
          "model_name": "DescriptionStyleModel",
          "model_module_version": "1.5.0",
          "state": {
            "_model_module": "@jupyter-widgets/controls",
            "_model_module_version": "1.5.0",
            "_model_name": "DescriptionStyleModel",
            "_view_count": null,
            "_view_module": "@jupyter-widgets/base",
            "_view_module_version": "1.2.0",
            "_view_name": "StyleView",
            "description_width": ""
          }
        },
        "2c6a092cad05409ebc8cdfe2e51f627b": {
          "model_module": "@jupyter-widgets/controls",
          "model_name": "HBoxModel",
          "model_module_version": "1.5.0",
          "state": {
            "_dom_classes": [],
            "_model_module": "@jupyter-widgets/controls",
            "_model_module_version": "1.5.0",
            "_model_name": "HBoxModel",
            "_view_count": null,
            "_view_module": "@jupyter-widgets/controls",
            "_view_module_version": "1.5.0",
            "_view_name": "HBoxView",
            "box_style": "",
            "children": [
              "IPY_MODEL_13837f0eba13467797f57605a37f1b0a",
              "IPY_MODEL_3c9528050962429e86996be36bbfa7be",
              "IPY_MODEL_e98e47d72f79409ead7cb90522d1035b"
            ],
            "layout": "IPY_MODEL_d73155f41ad84c5498c463db3ca1a8a0"
          }
        },
        "13837f0eba13467797f57605a37f1b0a": {
          "model_module": "@jupyter-widgets/controls",
          "model_name": "HTMLModel",
          "model_module_version": "1.5.0",
          "state": {
            "_dom_classes": [],
            "_model_module": "@jupyter-widgets/controls",
            "_model_module_version": "1.5.0",
            "_model_name": "HTMLModel",
            "_view_count": null,
            "_view_module": "@jupyter-widgets/controls",
            "_view_module_version": "1.5.0",
            "_view_name": "HTMLView",
            "description": "",
            "description_tooltip": null,
            "layout": "IPY_MODEL_ce22fc20926b4bd89bb326c49ba3c39c",
            "placeholder": "​",
            "style": "IPY_MODEL_95fa14df180840d7821eef00b450d5f8",
            "value": "Generating test split: 100%"
          }
        },
        "3c9528050962429e86996be36bbfa7be": {
          "model_module": "@jupyter-widgets/controls",
          "model_name": "FloatProgressModel",
          "model_module_version": "1.5.0",
          "state": {
            "_dom_classes": [],
            "_model_module": "@jupyter-widgets/controls",
            "_model_module_version": "1.5.0",
            "_model_name": "FloatProgressModel",
            "_view_count": null,
            "_view_module": "@jupyter-widgets/controls",
            "_view_module_version": "1.5.0",
            "_view_name": "ProgressView",
            "bar_style": "success",
            "description": "",
            "description_tooltip": null,
            "layout": "IPY_MODEL_30430cfb88fa4d5bb04b1771299785a8",
            "max": 17912,
            "min": 0,
            "orientation": "horizontal",
            "style": "IPY_MODEL_4c408542f3d84e8ea2819774e35aa139",
            "value": 17912
          }
        },
        "e98e47d72f79409ead7cb90522d1035b": {
          "model_module": "@jupyter-widgets/controls",
          "model_name": "HTMLModel",
          "model_module_version": "1.5.0",
          "state": {
            "_dom_classes": [],
            "_model_module": "@jupyter-widgets/controls",
            "_model_module_version": "1.5.0",
            "_model_name": "HTMLModel",
            "_view_count": null,
            "_view_module": "@jupyter-widgets/controls",
            "_view_module_version": "1.5.0",
            "_view_name": "HTMLView",
            "description": "",
            "description_tooltip": null,
            "layout": "IPY_MODEL_2f76c84897884e7f8cd44099630a0b51",
            "placeholder": "​",
            "style": "IPY_MODEL_ac0b968d9c1c4feba17dab48b5660ea7",
            "value": " 17912/17912 [00:00&lt;00:00, 75137.15 examples/s]"
          }
        },
        "d73155f41ad84c5498c463db3ca1a8a0": {
          "model_module": "@jupyter-widgets/base",
          "model_name": "LayoutModel",
          "model_module_version": "1.2.0",
          "state": {
            "_model_module": "@jupyter-widgets/base",
            "_model_module_version": "1.2.0",
            "_model_name": "LayoutModel",
            "_view_count": null,
            "_view_module": "@jupyter-widgets/base",
            "_view_module_version": "1.2.0",
            "_view_name": "LayoutView",
            "align_content": null,
            "align_items": null,
            "align_self": null,
            "border": null,
            "bottom": null,
            "display": null,
            "flex": null,
            "flex_flow": null,
            "grid_area": null,
            "grid_auto_columns": null,
            "grid_auto_flow": null,
            "grid_auto_rows": null,
            "grid_column": null,
            "grid_gap": null,
            "grid_row": null,
            "grid_template_areas": null,
            "grid_template_columns": null,
            "grid_template_rows": null,
            "height": null,
            "justify_content": null,
            "justify_items": null,
            "left": null,
            "margin": null,
            "max_height": null,
            "max_width": null,
            "min_height": null,
            "min_width": null,
            "object_fit": null,
            "object_position": null,
            "order": null,
            "overflow": null,
            "overflow_x": null,
            "overflow_y": null,
            "padding": null,
            "right": null,
            "top": null,
            "visibility": null,
            "width": null
          }
        },
        "ce22fc20926b4bd89bb326c49ba3c39c": {
          "model_module": "@jupyter-widgets/base",
          "model_name": "LayoutModel",
          "model_module_version": "1.2.0",
          "state": {
            "_model_module": "@jupyter-widgets/base",
            "_model_module_version": "1.2.0",
            "_model_name": "LayoutModel",
            "_view_count": null,
            "_view_module": "@jupyter-widgets/base",
            "_view_module_version": "1.2.0",
            "_view_name": "LayoutView",
            "align_content": null,
            "align_items": null,
            "align_self": null,
            "border": null,
            "bottom": null,
            "display": null,
            "flex": null,
            "flex_flow": null,
            "grid_area": null,
            "grid_auto_columns": null,
            "grid_auto_flow": null,
            "grid_auto_rows": null,
            "grid_column": null,
            "grid_gap": null,
            "grid_row": null,
            "grid_template_areas": null,
            "grid_template_columns": null,
            "grid_template_rows": null,
            "height": null,
            "justify_content": null,
            "justify_items": null,
            "left": null,
            "margin": null,
            "max_height": null,
            "max_width": null,
            "min_height": null,
            "min_width": null,
            "object_fit": null,
            "object_position": null,
            "order": null,
            "overflow": null,
            "overflow_x": null,
            "overflow_y": null,
            "padding": null,
            "right": null,
            "top": null,
            "visibility": null,
            "width": null
          }
        },
        "95fa14df180840d7821eef00b450d5f8": {
          "model_module": "@jupyter-widgets/controls",
          "model_name": "DescriptionStyleModel",
          "model_module_version": "1.5.0",
          "state": {
            "_model_module": "@jupyter-widgets/controls",
            "_model_module_version": "1.5.0",
            "_model_name": "DescriptionStyleModel",
            "_view_count": null,
            "_view_module": "@jupyter-widgets/base",
            "_view_module_version": "1.2.0",
            "_view_name": "StyleView",
            "description_width": ""
          }
        },
        "30430cfb88fa4d5bb04b1771299785a8": {
          "model_module": "@jupyter-widgets/base",
          "model_name": "LayoutModel",
          "model_module_version": "1.2.0",
          "state": {
            "_model_module": "@jupyter-widgets/base",
            "_model_module_version": "1.2.0",
            "_model_name": "LayoutModel",
            "_view_count": null,
            "_view_module": "@jupyter-widgets/base",
            "_view_module_version": "1.2.0",
            "_view_name": "LayoutView",
            "align_content": null,
            "align_items": null,
            "align_self": null,
            "border": null,
            "bottom": null,
            "display": null,
            "flex": null,
            "flex_flow": null,
            "grid_area": null,
            "grid_auto_columns": null,
            "grid_auto_flow": null,
            "grid_auto_rows": null,
            "grid_column": null,
            "grid_gap": null,
            "grid_row": null,
            "grid_template_areas": null,
            "grid_template_columns": null,
            "grid_template_rows": null,
            "height": null,
            "justify_content": null,
            "justify_items": null,
            "left": null,
            "margin": null,
            "max_height": null,
            "max_width": null,
            "min_height": null,
            "min_width": null,
            "object_fit": null,
            "object_position": null,
            "order": null,
            "overflow": null,
            "overflow_x": null,
            "overflow_y": null,
            "padding": null,
            "right": null,
            "top": null,
            "visibility": null,
            "width": null
          }
        },
        "4c408542f3d84e8ea2819774e35aa139": {
          "model_module": "@jupyter-widgets/controls",
          "model_name": "ProgressStyleModel",
          "model_module_version": "1.5.0",
          "state": {
            "_model_module": "@jupyter-widgets/controls",
            "_model_module_version": "1.5.0",
            "_model_name": "ProgressStyleModel",
            "_view_count": null,
            "_view_module": "@jupyter-widgets/base",
            "_view_module_version": "1.2.0",
            "_view_name": "StyleView",
            "bar_color": null,
            "description_width": ""
          }
        },
        "2f76c84897884e7f8cd44099630a0b51": {
          "model_module": "@jupyter-widgets/base",
          "model_name": "LayoutModel",
          "model_module_version": "1.2.0",
          "state": {
            "_model_module": "@jupyter-widgets/base",
            "_model_module_version": "1.2.0",
            "_model_name": "LayoutModel",
            "_view_count": null,
            "_view_module": "@jupyter-widgets/base",
            "_view_module_version": "1.2.0",
            "_view_name": "LayoutView",
            "align_content": null,
            "align_items": null,
            "align_self": null,
            "border": null,
            "bottom": null,
            "display": null,
            "flex": null,
            "flex_flow": null,
            "grid_area": null,
            "grid_auto_columns": null,
            "grid_auto_flow": null,
            "grid_auto_rows": null,
            "grid_column": null,
            "grid_gap": null,
            "grid_row": null,
            "grid_template_areas": null,
            "grid_template_columns": null,
            "grid_template_rows": null,
            "height": null,
            "justify_content": null,
            "justify_items": null,
            "left": null,
            "margin": null,
            "max_height": null,
            "max_width": null,
            "min_height": null,
            "min_width": null,
            "object_fit": null,
            "object_position": null,
            "order": null,
            "overflow": null,
            "overflow_x": null,
            "overflow_y": null,
            "padding": null,
            "right": null,
            "top": null,
            "visibility": null,
            "width": null
          }
        },
        "ac0b968d9c1c4feba17dab48b5660ea7": {
          "model_module": "@jupyter-widgets/controls",
          "model_name": "DescriptionStyleModel",
          "model_module_version": "1.5.0",
          "state": {
            "_model_module": "@jupyter-widgets/controls",
            "_model_module_version": "1.5.0",
            "_model_name": "DescriptionStyleModel",
            "_view_count": null,
            "_view_module": "@jupyter-widgets/base",
            "_view_module_version": "1.2.0",
            "_view_name": "StyleView",
            "description_width": ""
          }
        },
        "8ce19ba0e7f145d7bcfd06a3e641a1fa": {
          "model_module": "@jupyter-widgets/controls",
          "model_name": "HBoxModel",
          "model_module_version": "1.5.0",
          "state": {
            "_dom_classes": [],
            "_model_module": "@jupyter-widgets/controls",
            "_model_module_version": "1.5.0",
            "_model_name": "HBoxModel",
            "_view_count": null,
            "_view_module": "@jupyter-widgets/controls",
            "_view_module_version": "1.5.0",
            "_view_name": "HBoxView",
            "box_style": "",
            "children": [
              "IPY_MODEL_d90d33fed69845958f242465ab87ca64",
              "IPY_MODEL_f6527344e8ef4315a0043a3c82c46ebf",
              "IPY_MODEL_e3a5e9c87e114c40acc6b2fadae048db"
            ],
            "layout": "IPY_MODEL_37f79dd60bfb4cbcae823402a85157b3"
          }
        },
        "d90d33fed69845958f242465ab87ca64": {
          "model_module": "@jupyter-widgets/controls",
          "model_name": "HTMLModel",
          "model_module_version": "1.5.0",
          "state": {
            "_dom_classes": [],
            "_model_module": "@jupyter-widgets/controls",
            "_model_module_version": "1.5.0",
            "_model_name": "HTMLModel",
            "_view_count": null,
            "_view_module": "@jupyter-widgets/controls",
            "_view_module_version": "1.5.0",
            "_view_name": "HTMLView",
            "description": "",
            "description_tooltip": null,
            "layout": "IPY_MODEL_4e5eb97613fe43d0a82ccaa59e12420e",
            "placeholder": "​",
            "style": "IPY_MODEL_6b1d9e4279664e849942b703f0f19384",
            "value": "Map: 100%"
          }
        },
        "f6527344e8ef4315a0043a3c82c46ebf": {
          "model_module": "@jupyter-widgets/controls",
          "model_name": "FloatProgressModel",
          "model_module_version": "1.5.0",
          "state": {
            "_dom_classes": [],
            "_model_module": "@jupyter-widgets/controls",
            "_model_module_version": "1.5.0",
            "_model_name": "FloatProgressModel",
            "_view_count": null,
            "_view_module": "@jupyter-widgets/controls",
            "_view_module_version": "1.5.0",
            "_view_name": "ProgressView",
            "bar_style": "success",
            "description": "",
            "description_tooltip": null,
            "layout": "IPY_MODEL_ee183f69e3594c30a2b15196d1dda851",
            "max": 161238,
            "min": 0,
            "orientation": "horizontal",
            "style": "IPY_MODEL_3d7b8ab204cb4ebdb872d41dd6619bf4",
            "value": 161238
          }
        },
        "e3a5e9c87e114c40acc6b2fadae048db": {
          "model_module": "@jupyter-widgets/controls",
          "model_name": "HTMLModel",
          "model_module_version": "1.5.0",
          "state": {
            "_dom_classes": [],
            "_model_module": "@jupyter-widgets/controls",
            "_model_module_version": "1.5.0",
            "_model_name": "HTMLModel",
            "_view_count": null,
            "_view_module": "@jupyter-widgets/controls",
            "_view_module_version": "1.5.0",
            "_view_name": "HTMLView",
            "description": "",
            "description_tooltip": null,
            "layout": "IPY_MODEL_de7873a79b684047a254ef6070318d70",
            "placeholder": "​",
            "style": "IPY_MODEL_87741fd0909648df954f7cc0ce9e3873",
            "value": " 161238/161238 [00:22&lt;00:00, 6656.73 examples/s]"
          }
        },
        "37f79dd60bfb4cbcae823402a85157b3": {
          "model_module": "@jupyter-widgets/base",
          "model_name": "LayoutModel",
          "model_module_version": "1.2.0",
          "state": {
            "_model_module": "@jupyter-widgets/base",
            "_model_module_version": "1.2.0",
            "_model_name": "LayoutModel",
            "_view_count": null,
            "_view_module": "@jupyter-widgets/base",
            "_view_module_version": "1.2.0",
            "_view_name": "LayoutView",
            "align_content": null,
            "align_items": null,
            "align_self": null,
            "border": null,
            "bottom": null,
            "display": null,
            "flex": null,
            "flex_flow": null,
            "grid_area": null,
            "grid_auto_columns": null,
            "grid_auto_flow": null,
            "grid_auto_rows": null,
            "grid_column": null,
            "grid_gap": null,
            "grid_row": null,
            "grid_template_areas": null,
            "grid_template_columns": null,
            "grid_template_rows": null,
            "height": null,
            "justify_content": null,
            "justify_items": null,
            "left": null,
            "margin": null,
            "max_height": null,
            "max_width": null,
            "min_height": null,
            "min_width": null,
            "object_fit": null,
            "object_position": null,
            "order": null,
            "overflow": null,
            "overflow_x": null,
            "overflow_y": null,
            "padding": null,
            "right": null,
            "top": null,
            "visibility": null,
            "width": null
          }
        },
        "4e5eb97613fe43d0a82ccaa59e12420e": {
          "model_module": "@jupyter-widgets/base",
          "model_name": "LayoutModel",
          "model_module_version": "1.2.0",
          "state": {
            "_model_module": "@jupyter-widgets/base",
            "_model_module_version": "1.2.0",
            "_model_name": "LayoutModel",
            "_view_count": null,
            "_view_module": "@jupyter-widgets/base",
            "_view_module_version": "1.2.0",
            "_view_name": "LayoutView",
            "align_content": null,
            "align_items": null,
            "align_self": null,
            "border": null,
            "bottom": null,
            "display": null,
            "flex": null,
            "flex_flow": null,
            "grid_area": null,
            "grid_auto_columns": null,
            "grid_auto_flow": null,
            "grid_auto_rows": null,
            "grid_column": null,
            "grid_gap": null,
            "grid_row": null,
            "grid_template_areas": null,
            "grid_template_columns": null,
            "grid_template_rows": null,
            "height": null,
            "justify_content": null,
            "justify_items": null,
            "left": null,
            "margin": null,
            "max_height": null,
            "max_width": null,
            "min_height": null,
            "min_width": null,
            "object_fit": null,
            "object_position": null,
            "order": null,
            "overflow": null,
            "overflow_x": null,
            "overflow_y": null,
            "padding": null,
            "right": null,
            "top": null,
            "visibility": null,
            "width": null
          }
        },
        "6b1d9e4279664e849942b703f0f19384": {
          "model_module": "@jupyter-widgets/controls",
          "model_name": "DescriptionStyleModel",
          "model_module_version": "1.5.0",
          "state": {
            "_model_module": "@jupyter-widgets/controls",
            "_model_module_version": "1.5.0",
            "_model_name": "DescriptionStyleModel",
            "_view_count": null,
            "_view_module": "@jupyter-widgets/base",
            "_view_module_version": "1.2.0",
            "_view_name": "StyleView",
            "description_width": ""
          }
        },
        "ee183f69e3594c30a2b15196d1dda851": {
          "model_module": "@jupyter-widgets/base",
          "model_name": "LayoutModel",
          "model_module_version": "1.2.0",
          "state": {
            "_model_module": "@jupyter-widgets/base",
            "_model_module_version": "1.2.0",
            "_model_name": "LayoutModel",
            "_view_count": null,
            "_view_module": "@jupyter-widgets/base",
            "_view_module_version": "1.2.0",
            "_view_name": "LayoutView",
            "align_content": null,
            "align_items": null,
            "align_self": null,
            "border": null,
            "bottom": null,
            "display": null,
            "flex": null,
            "flex_flow": null,
            "grid_area": null,
            "grid_auto_columns": null,
            "grid_auto_flow": null,
            "grid_auto_rows": null,
            "grid_column": null,
            "grid_gap": null,
            "grid_row": null,
            "grid_template_areas": null,
            "grid_template_columns": null,
            "grid_template_rows": null,
            "height": null,
            "justify_content": null,
            "justify_items": null,
            "left": null,
            "margin": null,
            "max_height": null,
            "max_width": null,
            "min_height": null,
            "min_width": null,
            "object_fit": null,
            "object_position": null,
            "order": null,
            "overflow": null,
            "overflow_x": null,
            "overflow_y": null,
            "padding": null,
            "right": null,
            "top": null,
            "visibility": null,
            "width": null
          }
        },
        "3d7b8ab204cb4ebdb872d41dd6619bf4": {
          "model_module": "@jupyter-widgets/controls",
          "model_name": "ProgressStyleModel",
          "model_module_version": "1.5.0",
          "state": {
            "_model_module": "@jupyter-widgets/controls",
            "_model_module_version": "1.5.0",
            "_model_name": "ProgressStyleModel",
            "_view_count": null,
            "_view_module": "@jupyter-widgets/base",
            "_view_module_version": "1.2.0",
            "_view_name": "StyleView",
            "bar_color": null,
            "description_width": ""
          }
        },
        "de7873a79b684047a254ef6070318d70": {
          "model_module": "@jupyter-widgets/base",
          "model_name": "LayoutModel",
          "model_module_version": "1.2.0",
          "state": {
            "_model_module": "@jupyter-widgets/base",
            "_model_module_version": "1.2.0",
            "_model_name": "LayoutModel",
            "_view_count": null,
            "_view_module": "@jupyter-widgets/base",
            "_view_module_version": "1.2.0",
            "_view_name": "LayoutView",
            "align_content": null,
            "align_items": null,
            "align_self": null,
            "border": null,
            "bottom": null,
            "display": null,
            "flex": null,
            "flex_flow": null,
            "grid_area": null,
            "grid_auto_columns": null,
            "grid_auto_flow": null,
            "grid_auto_rows": null,
            "grid_column": null,
            "grid_gap": null,
            "grid_row": null,
            "grid_template_areas": null,
            "grid_template_columns": null,
            "grid_template_rows": null,
            "height": null,
            "justify_content": null,
            "justify_items": null,
            "left": null,
            "margin": null,
            "max_height": null,
            "max_width": null,
            "min_height": null,
            "min_width": null,
            "object_fit": null,
            "object_position": null,
            "order": null,
            "overflow": null,
            "overflow_x": null,
            "overflow_y": null,
            "padding": null,
            "right": null,
            "top": null,
            "visibility": null,
            "width": null
          }
        },
        "87741fd0909648df954f7cc0ce9e3873": {
          "model_module": "@jupyter-widgets/controls",
          "model_name": "DescriptionStyleModel",
          "model_module_version": "1.5.0",
          "state": {
            "_model_module": "@jupyter-widgets/controls",
            "_model_module_version": "1.5.0",
            "_model_name": "DescriptionStyleModel",
            "_view_count": null,
            "_view_module": "@jupyter-widgets/base",
            "_view_module_version": "1.2.0",
            "_view_name": "StyleView",
            "description_width": ""
          }
        },
        "c835a967d85e40369962e98efcff883a": {
          "model_module": "@jupyter-widgets/controls",
          "model_name": "HBoxModel",
          "model_module_version": "1.5.0",
          "state": {
            "_dom_classes": [],
            "_model_module": "@jupyter-widgets/controls",
            "_model_module_version": "1.5.0",
            "_model_name": "HBoxModel",
            "_view_count": null,
            "_view_module": "@jupyter-widgets/controls",
            "_view_module_version": "1.5.0",
            "_view_name": "HBoxView",
            "box_style": "",
            "children": [
              "IPY_MODEL_991fcbc7291d40ee9b474e4b64fe0729",
              "IPY_MODEL_33b07e03c97b466cb6c7b066f3b760cc",
              "IPY_MODEL_ee63b49e7a414ea7bc89f2d08c3f57ab"
            ],
            "layout": "IPY_MODEL_a03ff7777cbc4f64afd66794f2fa9f6f"
          }
        },
        "991fcbc7291d40ee9b474e4b64fe0729": {
          "model_module": "@jupyter-widgets/controls",
          "model_name": "HTMLModel",
          "model_module_version": "1.5.0",
          "state": {
            "_dom_classes": [],
            "_model_module": "@jupyter-widgets/controls",
            "_model_module_version": "1.5.0",
            "_model_name": "HTMLModel",
            "_view_count": null,
            "_view_module": "@jupyter-widgets/controls",
            "_view_module_version": "1.5.0",
            "_view_name": "HTMLView",
            "description": "",
            "description_tooltip": null,
            "layout": "IPY_MODEL_1d9c3adc15524bbd8487700ace0f0a09",
            "placeholder": "​",
            "style": "IPY_MODEL_8f5d701b57fb4bb4afd77e951df5e08a",
            "value": "Map: 100%"
          }
        },
        "33b07e03c97b466cb6c7b066f3b760cc": {
          "model_module": "@jupyter-widgets/controls",
          "model_name": "FloatProgressModel",
          "model_module_version": "1.5.0",
          "state": {
            "_dom_classes": [],
            "_model_module": "@jupyter-widgets/controls",
            "_model_module_version": "1.5.0",
            "_model_name": "FloatProgressModel",
            "_view_count": null,
            "_view_module": "@jupyter-widgets/controls",
            "_view_module_version": "1.5.0",
            "_view_name": "ProgressView",
            "bar_style": "success",
            "description": "",
            "description_tooltip": null,
            "layout": "IPY_MODEL_da00fe0b15394a63bda6998450e5a100",
            "max": 17912,
            "min": 0,
            "orientation": "horizontal",
            "style": "IPY_MODEL_88d04e1a8ffa47caa790840c87853b9f",
            "value": 17912
          }
        },
        "ee63b49e7a414ea7bc89f2d08c3f57ab": {
          "model_module": "@jupyter-widgets/controls",
          "model_name": "HTMLModel",
          "model_module_version": "1.5.0",
          "state": {
            "_dom_classes": [],
            "_model_module": "@jupyter-widgets/controls",
            "_model_module_version": "1.5.0",
            "_model_name": "HTMLModel",
            "_view_count": null,
            "_view_module": "@jupyter-widgets/controls",
            "_view_module_version": "1.5.0",
            "_view_name": "HTMLView",
            "description": "",
            "description_tooltip": null,
            "layout": "IPY_MODEL_f4db85defca94d2f89169e6a08d6a834",
            "placeholder": "​",
            "style": "IPY_MODEL_48f1426c74114c6287dae6eb69782fd3",
            "value": " 17912/17912 [00:02&lt;00:00, 5482.93 examples/s]"
          }
        },
        "a03ff7777cbc4f64afd66794f2fa9f6f": {
          "model_module": "@jupyter-widgets/base",
          "model_name": "LayoutModel",
          "model_module_version": "1.2.0",
          "state": {
            "_model_module": "@jupyter-widgets/base",
            "_model_module_version": "1.2.0",
            "_model_name": "LayoutModel",
            "_view_count": null,
            "_view_module": "@jupyter-widgets/base",
            "_view_module_version": "1.2.0",
            "_view_name": "LayoutView",
            "align_content": null,
            "align_items": null,
            "align_self": null,
            "border": null,
            "bottom": null,
            "display": null,
            "flex": null,
            "flex_flow": null,
            "grid_area": null,
            "grid_auto_columns": null,
            "grid_auto_flow": null,
            "grid_auto_rows": null,
            "grid_column": null,
            "grid_gap": null,
            "grid_row": null,
            "grid_template_areas": null,
            "grid_template_columns": null,
            "grid_template_rows": null,
            "height": null,
            "justify_content": null,
            "justify_items": null,
            "left": null,
            "margin": null,
            "max_height": null,
            "max_width": null,
            "min_height": null,
            "min_width": null,
            "object_fit": null,
            "object_position": null,
            "order": null,
            "overflow": null,
            "overflow_x": null,
            "overflow_y": null,
            "padding": null,
            "right": null,
            "top": null,
            "visibility": null,
            "width": null
          }
        },
        "1d9c3adc15524bbd8487700ace0f0a09": {
          "model_module": "@jupyter-widgets/base",
          "model_name": "LayoutModel",
          "model_module_version": "1.2.0",
          "state": {
            "_model_module": "@jupyter-widgets/base",
            "_model_module_version": "1.2.0",
            "_model_name": "LayoutModel",
            "_view_count": null,
            "_view_module": "@jupyter-widgets/base",
            "_view_module_version": "1.2.0",
            "_view_name": "LayoutView",
            "align_content": null,
            "align_items": null,
            "align_self": null,
            "border": null,
            "bottom": null,
            "display": null,
            "flex": null,
            "flex_flow": null,
            "grid_area": null,
            "grid_auto_columns": null,
            "grid_auto_flow": null,
            "grid_auto_rows": null,
            "grid_column": null,
            "grid_gap": null,
            "grid_row": null,
            "grid_template_areas": null,
            "grid_template_columns": null,
            "grid_template_rows": null,
            "height": null,
            "justify_content": null,
            "justify_items": null,
            "left": null,
            "margin": null,
            "max_height": null,
            "max_width": null,
            "min_height": null,
            "min_width": null,
            "object_fit": null,
            "object_position": null,
            "order": null,
            "overflow": null,
            "overflow_x": null,
            "overflow_y": null,
            "padding": null,
            "right": null,
            "top": null,
            "visibility": null,
            "width": null
          }
        },
        "8f5d701b57fb4bb4afd77e951df5e08a": {
          "model_module": "@jupyter-widgets/controls",
          "model_name": "DescriptionStyleModel",
          "model_module_version": "1.5.0",
          "state": {
            "_model_module": "@jupyter-widgets/controls",
            "_model_module_version": "1.5.0",
            "_model_name": "DescriptionStyleModel",
            "_view_count": null,
            "_view_module": "@jupyter-widgets/base",
            "_view_module_version": "1.2.0",
            "_view_name": "StyleView",
            "description_width": ""
          }
        },
        "da00fe0b15394a63bda6998450e5a100": {
          "model_module": "@jupyter-widgets/base",
          "model_name": "LayoutModel",
          "model_module_version": "1.2.0",
          "state": {
            "_model_module": "@jupyter-widgets/base",
            "_model_module_version": "1.2.0",
            "_model_name": "LayoutModel",
            "_view_count": null,
            "_view_module": "@jupyter-widgets/base",
            "_view_module_version": "1.2.0",
            "_view_name": "LayoutView",
            "align_content": null,
            "align_items": null,
            "align_self": null,
            "border": null,
            "bottom": null,
            "display": null,
            "flex": null,
            "flex_flow": null,
            "grid_area": null,
            "grid_auto_columns": null,
            "grid_auto_flow": null,
            "grid_auto_rows": null,
            "grid_column": null,
            "grid_gap": null,
            "grid_row": null,
            "grid_template_areas": null,
            "grid_template_columns": null,
            "grid_template_rows": null,
            "height": null,
            "justify_content": null,
            "justify_items": null,
            "left": null,
            "margin": null,
            "max_height": null,
            "max_width": null,
            "min_height": null,
            "min_width": null,
            "object_fit": null,
            "object_position": null,
            "order": null,
            "overflow": null,
            "overflow_x": null,
            "overflow_y": null,
            "padding": null,
            "right": null,
            "top": null,
            "visibility": null,
            "width": null
          }
        },
        "88d04e1a8ffa47caa790840c87853b9f": {
          "model_module": "@jupyter-widgets/controls",
          "model_name": "ProgressStyleModel",
          "model_module_version": "1.5.0",
          "state": {
            "_model_module": "@jupyter-widgets/controls",
            "_model_module_version": "1.5.0",
            "_model_name": "ProgressStyleModel",
            "_view_count": null,
            "_view_module": "@jupyter-widgets/base",
            "_view_module_version": "1.2.0",
            "_view_name": "StyleView",
            "bar_color": null,
            "description_width": ""
          }
        },
        "f4db85defca94d2f89169e6a08d6a834": {
          "model_module": "@jupyter-widgets/base",
          "model_name": "LayoutModel",
          "model_module_version": "1.2.0",
          "state": {
            "_model_module": "@jupyter-widgets/base",
            "_model_module_version": "1.2.0",
            "_model_name": "LayoutModel",
            "_view_count": null,
            "_view_module": "@jupyter-widgets/base",
            "_view_module_version": "1.2.0",
            "_view_name": "LayoutView",
            "align_content": null,
            "align_items": null,
            "align_self": null,
            "border": null,
            "bottom": null,
            "display": null,
            "flex": null,
            "flex_flow": null,
            "grid_area": null,
            "grid_auto_columns": null,
            "grid_auto_flow": null,
            "grid_auto_rows": null,
            "grid_column": null,
            "grid_gap": null,
            "grid_row": null,
            "grid_template_areas": null,
            "grid_template_columns": null,
            "grid_template_rows": null,
            "height": null,
            "justify_content": null,
            "justify_items": null,
            "left": null,
            "margin": null,
            "max_height": null,
            "max_width": null,
            "min_height": null,
            "min_width": null,
            "object_fit": null,
            "object_position": null,
            "order": null,
            "overflow": null,
            "overflow_x": null,
            "overflow_y": null,
            "padding": null,
            "right": null,
            "top": null,
            "visibility": null,
            "width": null
          }
        },
        "48f1426c74114c6287dae6eb69782fd3": {
          "model_module": "@jupyter-widgets/controls",
          "model_name": "DescriptionStyleModel",
          "model_module_version": "1.5.0",
          "state": {
            "_model_module": "@jupyter-widgets/controls",
            "_model_module_version": "1.5.0",
            "_model_name": "DescriptionStyleModel",
            "_view_count": null,
            "_view_module": "@jupyter-widgets/base",
            "_view_module_version": "1.2.0",
            "_view_name": "StyleView",
            "description_width": ""
          }
        }
      }
    }
  },
  "cells": [
    {
      "cell_type": "markdown",
      "source": [
        "# Lab 1. NER (Makarov, Shabalin), dataset: https://huggingface.co/datasets/mnaguib/WikiNER"
      ],
      "metadata": {
        "id": "aUH8Dz1YzJIy"
      }
    },
    {
      "cell_type": "markdown",
      "source": [
        "# Загрузка данных и EDA"
      ],
      "metadata": {
        "id": "Tt6RkeTlwpjs"
      }
    },
    {
      "cell_type": "markdown",
      "source": [
        "Загрузим библиотеки и датасет. Работать будем с русскоязычным разделом."
      ],
      "metadata": {
        "id": "rzg64O4lzZni"
      }
    },
    {
      "cell_type": "code",
      "source": [
        "from datasets import load_dataset\n",
        "import random\n",
        "import numpy as np\n",
        "import re\n",
        "from collections import Counter\n",
        "import matplotlib.pyplot as plt\n",
        "import seaborn as sns\n",
        "import pandas as pd\n",
        "from IPython.display import display, HTML\n",
        "import torch\n",
        "import torch.nn as nn\n",
        "from torch.utils.data import DataLoader, TensorDataset\n",
        "!pip install seqeval -q\n",
        "from seqeval.metrics import classification_report\n",
        "from tqdm import tqdm\n",
        "import time\n",
        "!pip install pytorch-crf\n",
        "from torchcrf import CRF\n",
        "import warnings\n",
        "warnings.filterwarnings('ignore')\n",
        "\n",
        "SEED = 42\n",
        "random.seed(SEED)\n",
        "np.random.seed(SEED)\n",
        "torch.manual_seed(SEED)\n",
        "torch.cuda.manual_seed(SEED)\n",
        "torch.backends.cudnn.deterministic = True"
      ],
      "metadata": {
        "id": "v1Hhjz5TzAS4",
        "colab": {
          "base_uri": "https://localhost:8080/"
        },
        "outputId": "2dc11bd1-d0e0-4000-d1cc-ef09fb5b3a7a"
      },
      "execution_count": null,
      "outputs": [
        {
          "output_type": "stream",
          "name": "stdout",
          "text": [
            "Requirement already satisfied: pytorch-crf in /usr/local/lib/python3.12/dist-packages (0.7.2)\n"
          ]
        }
      ]
    },
    {
      "cell_type": "code",
      "source": [
        "wikiner_ru = load_dataset('mnaguib/WikiNER', 'ru')\n",
        "print(wikiner_ru)"
      ],
      "metadata": {
        "colab": {
          "base_uri": "https://localhost:8080/",
          "height": 359,
          "referenced_widgets": [
            "6fbd663925c64a998f2a96e5ed9522d9",
            "38d935c2b7224ec8ac694049e5ed2c9f",
            "acceeeb8e78441bf86a725918874ec27",
            "9c7346e00c6a481daa982cf272a38c11",
            "21db617581934270a122e104aea6e012",
            "c8a53da2f9f84189bfcb8efb78fdb879",
            "ddc7ca426101422fafc71e210d319dd5",
            "7545403409264ed78dbdb8cb485e13c3",
            "0839bd2e2ba747649df060fdc6ad25ea",
            "5ae270c9c65a4f54bc59141e0e2fa24b",
            "c48b52d245e4452cbe58c3109c8152c0",
            "34c870580a4e4f839c6ac31afdfe00b4",
            "e4809be7483d49b4bb4cea3af26890e2",
            "cc341836f5db498aaa4143c2750749d9",
            "7d1ee419c4ee4b939f3e42468bbc66b4",
            "a5021dc800644b96b79bb301af32cc60",
            "ebbf7c98cc834d1388e5eb6978ca7878",
            "d5e69d83d74d44069c756cdfeaaa5fa3",
            "b85a863bdb9c41089840c7530bdc433c",
            "4c046d55f0074065845043b5eca65b36",
            "8f6f85158e0845949756aa87f8b47d17",
            "6c32b00f043649c09e85e960516606c6",
            "57ea7a7121ac462c95833eff6f0184ae",
            "9a5bf5887c43428d89ffe85cfa23ade3",
            "56bd930ca3f345deaaacda0d931884b3",
            "40ba0c7051bc4c01ada42abbf689ecd7",
            "df10a8a100d84a8fa067c6acda740111",
            "804657f9dc61431cadae2d8de2cb4636",
            "9f54d990df95439ea794b2d05a6d951d",
            "7981fc5621b34993b8bc2e62cfe53350",
            "5b2b1483257241c7a36d8ab4f6612479",
            "73dab47818f145aa8c1b5ffb62234e17",
            "e552959d126a484f9a2a81c095fa5ff7",
            "64c3d0cd7fdc408e88bb8b1eae6dec7d",
            "1c9051f9f68b4baa83d8890c2d60c2e5",
            "70b0da4fcce64da5a390158b84ca1a91",
            "abcd40eb33c842dba1f97ac9f077ed22",
            "471f51bec34b42c9a41836972c5a2823",
            "65efa19c4bcd401aae020a152a5a34c3",
            "42b64b7ea8b647bd9d5dd0b411d61b1f",
            "b0fbd962bb2a40f6bb8026adb5437590",
            "183fd8da58984ce9b72ca61b5d463a35",
            "f33e483ff7b748daa3f17d846de7853e",
            "ba8aec9b903445948fc0500a65444053",
            "2c6a092cad05409ebc8cdfe2e51f627b",
            "13837f0eba13467797f57605a37f1b0a",
            "3c9528050962429e86996be36bbfa7be",
            "e98e47d72f79409ead7cb90522d1035b",
            "d73155f41ad84c5498c463db3ca1a8a0",
            "ce22fc20926b4bd89bb326c49ba3c39c",
            "95fa14df180840d7821eef00b450d5f8",
            "30430cfb88fa4d5bb04b1771299785a8",
            "4c408542f3d84e8ea2819774e35aa139",
            "2f76c84897884e7f8cd44099630a0b51",
            "ac0b968d9c1c4feba17dab48b5660ea7"
          ]
        },
        "id": "DyBleRLzzCre",
        "outputId": "704cd532-6c43-4256-8b5f-90c9cde97250"
      },
      "execution_count": null,
      "outputs": [
        {
          "output_type": "display_data",
          "data": {
            "text/plain": [
              "README.md: 0.00B [00:00, ?B/s]"
            ],
            "application/vnd.jupyter.widget-view+json": {
              "version_major": 2,
              "version_minor": 0,
              "model_id": "6fbd663925c64a998f2a96e5ed9522d9"
            }
          },
          "metadata": {}
        },
        {
          "output_type": "display_data",
          "data": {
            "text/plain": [
              "data/ru/train.parquet:   0%|          | 0.00/20.8M [00:00<?, ?B/s]"
            ],
            "application/vnd.jupyter.widget-view+json": {
              "version_major": 2,
              "version_minor": 0,
              "model_id": "34c870580a4e4f839c6ac31afdfe00b4"
            }
          },
          "metadata": {}
        },
        {
          "output_type": "display_data",
          "data": {
            "text/plain": [
              "data/ru/test.parquet:   0%|          | 0.00/2.27M [00:00<?, ?B/s]"
            ],
            "application/vnd.jupyter.widget-view+json": {
              "version_major": 2,
              "version_minor": 0,
              "model_id": "57ea7a7121ac462c95833eff6f0184ae"
            }
          },
          "metadata": {}
        },
        {
          "output_type": "display_data",
          "data": {
            "text/plain": [
              "Generating train split:   0%|          | 0/161238 [00:00<?, ? examples/s]"
            ],
            "application/vnd.jupyter.widget-view+json": {
              "version_major": 2,
              "version_minor": 0,
              "model_id": "64c3d0cd7fdc408e88bb8b1eae6dec7d"
            }
          },
          "metadata": {}
        },
        {
          "output_type": "display_data",
          "data": {
            "text/plain": [
              "Generating test split:   0%|          | 0/17912 [00:00<?, ? examples/s]"
            ],
            "application/vnd.jupyter.widget-view+json": {
              "version_major": 2,
              "version_minor": 0,
              "model_id": "2c6a092cad05409ebc8cdfe2e51f627b"
            }
          },
          "metadata": {}
        },
        {
          "output_type": "stream",
          "name": "stdout",
          "text": [
            "DatasetDict({\n",
            "    train: Dataset({\n",
            "        features: ['id', 'words', 'ner_tags'],\n",
            "        num_rows: 161238\n",
            "    })\n",
            "    test: Dataset({\n",
            "        features: ['id', 'words', 'ner_tags'],\n",
            "        num_rows: 17912\n",
            "    })\n",
            "})\n"
          ]
        }
      ]
    },
    {
      "cell_type": "markdown",
      "source": [
        "На странице датасета на Hugging Face указана следующая схема разметки: {0: 'O', 1: 'LOC', 2: 'PER', 3: 'MISC', 4: 'ORG'}. Создадим словари для удобного преобразования тегов."
      ],
      "metadata": {
        "id": "3ZQeQEnozptC"
      }
    },
    {
      "cell_type": "code",
      "source": [
        "id2tag = {\n",
        "    0: 'O',\n",
        "    1: 'LOC',\n",
        "    2: 'PER',\n",
        "    3: 'MISC',\n",
        "    4: 'ORG'\n",
        "}\n",
        "\n",
        "tag2id = {tag: i for i, tag in id2tag.items()}\n",
        "num_tags = len(id2tag)\n",
        "\n",
        "print(\"Схема разметки (id -> тег):\", id2tag)\n",
        "print(\"Количество уникальных тегов:\", num_tags)"
      ],
      "metadata": {
        "colab": {
          "base_uri": "https://localhost:8080/"
        },
        "id": "XSuD8pSdzmZV",
        "outputId": "4e3a271d-e996-4c0a-9b28-54f16581b69b"
      },
      "execution_count": null,
      "outputs": [
        {
          "output_type": "stream",
          "name": "stdout",
          "text": [
            "Схема разметки (id -> тег): {0: 'O', 1: 'LOC', 2: 'PER', 3: 'MISC', 4: 'ORG'}\n",
            "Количество уникальных тегов: 5\n"
          ]
        }
      ]
    },
    {
      "cell_type": "markdown",
      "source": [
        "Посмотрим на данные. Найдём первый пример, содержащий именованные сущности и посмотрим на его разметку."
      ],
      "metadata": {
        "id": "EEzQJQ6Nz1p-"
      }
    },
    {
      "cell_type": "code",
      "source": [
        "found_example = None\n",
        "example_index = -1\n",
        "\n",
        "for i, example in enumerate(wikiner_ru['train']):\n",
        "    if any(tag != 0 for tag in example['ner_tags']):\n",
        "        found_example = example\n",
        "        example_index = i\n",
        "        break\n",
        "\n",
        "if found_example:\n",
        "    print(f\"Пример с сущностями найден под индексом: {example_index}\")\n",
        "\n",
        "\n",
        "    words = found_example['words']\n",
        "    tags = found_example['ner_tags']\n",
        "    decoded_tags = [id2tag[tag_id] for tag_id in tags]\n",
        "\n",
        "    print(\"\\nРасшифрованные теги для найденного примера\")\n",
        "    for word, tag in zip(words, decoded_tags):\n",
        "        print(f\"{word:<20} {tag}\")"
      ],
      "metadata": {
        "colab": {
          "base_uri": "https://localhost:8080/"
        },
        "id": "kJbzSylWz-ut",
        "outputId": "3048cbe7-3a5c-4ee0-c05c-71fa5bf265cc"
      },
      "execution_count": null,
      "outputs": [
        {
          "output_type": "stream",
          "name": "stdout",
          "text": [
            "Пример с сущностями найден под индексом: 2\n",
            "\n",
            "Расшифрованные теги для найденного примера\n",
            "Город                O\n",
            "расположен           O\n",
            "в                    O\n",
            "234                  O\n",
            "км                   O\n",
            "от                   O\n",
            "г.                   O\n",
            "Ставрополь           LOC\n",
            ",                    O\n",
            "в                    O\n",
            "северных             O\n",
            "предгорьях           O\n",
            "Большого             LOC\n",
            "Кавказа              LOC\n",
            "на                   O\n",
            "высоте               O\n",
            "800                  O\n",
            "--                   O\n",
            "1069                 O\n",
            "м                    O\n",
            "над                  O\n",
            "уровнем              O\n",
            "моря                 O\n",
            ".                    O\n"
          ]
        }
      ]
    },
    {
      "cell_type": "markdown",
      "source": [
        "Видим, что данные размечены по простой схеме без IOB-префиксов (например, B-LOC, I-LOC). Пример с индексом 2, содержащий слова \"Ставрополь\" и \"Большой Кавказ\", корректно размечен тегами LOC и LOC LOC соответственно. Это подтверждает правильность нашей интерпретации схемы тегов. Качество данных на первый взгляд является удовлетворительным.\n",
        "\n",
        "Однако эта \"простая\" схема имеет свои недостатки: невозможно различить две идущие подряд сущности одного типа. Например, в предложении \"Встреча Россия США\" разметка будет ORG ORG, и мы не сможем программно понять, одна это сущность (\"Россия США\") или две разные (\"Россия\" и \"США\"). Для данного датасета мы принимаем это как ограничение."
      ],
      "metadata": {
        "id": "wz6MvQawwGfg"
      }
    },
    {
      "cell_type": "markdown",
      "source": [
        "Посмотрим на реальный пример. Выведем несколько предложений и подсветим в них именованные сущности."
      ],
      "metadata": {
        "id": "eRYrkqgEn3Er"
      }
    },
    {
      "cell_type": "code",
      "source": [
        "def visualize_ner(words, tags, id2tag_map):\n",
        "    html = \"\"\n",
        "    color_map = {\n",
        "        'PER': '#FFADAD',\n",
        "        'LOC': '#A0C4FF',\n",
        "        'ORG': '#BDB2FF',\n",
        "    }\n",
        "\n",
        "    for word, tag_id in zip(words, tags):\n",
        "        tag = id2tag_map.get(tag_id, 'O')\n",
        "        if tag != 'O':\n",
        "            html += f\"<span style='background-color:{color_map[tag]}; border-radius: 4px; padding: 2px; margin:1px'><b>{word}</b> <sub style='font-size: 0.7em;'>{tag}</sub></span> \"\n",
        "        else:\n",
        "            html += f\"{word} \"\n",
        "    display(HTML(html))\n",
        "\n",
        "for i in [2, 100, 545, 1024]:\n",
        "    example = wikiner_ru['train'][i]\n",
        "    visualize_ner(example['words'], example['ner_tags'], id2tag)"
      ],
      "metadata": {
        "colab": {
          "base_uri": "https://localhost:8080/",
          "height": 113
        },
        "id": "FecqixFKnqvc",
        "outputId": "83760f2c-6b90-465e-cb84-6730c505c4e5"
      },
      "execution_count": null,
      "outputs": [
        {
          "output_type": "display_data",
          "data": {
            "text/plain": [
              "<IPython.core.display.HTML object>"
            ],
            "text/html": [
              "Город расположен в 234 км от г. <span style='background-color:#A0C4FF; border-radius: 4px; padding: 2px; margin:1px'><b>Ставрополь</b> <sub style='font-size: 0.7em;'>LOC</sub></span> , в северных предгорьях <span style='background-color:#A0C4FF; border-radius: 4px; padding: 2px; margin:1px'><b>Большого</b> <sub style='font-size: 0.7em;'>LOC</sub></span> <span style='background-color:#A0C4FF; border-radius: 4px; padding: 2px; margin:1px'><b>Кавказа</b> <sub style='font-size: 0.7em;'>LOC</sub></span> на высоте 800 -- 1069 м над уровнем моря . "
            ]
          },
          "metadata": {}
        },
        {
          "output_type": "display_data",
          "data": {
            "text/plain": [
              "<IPython.core.display.HTML object>"
            ],
            "text/html": [
              "7 апреля 2007 начался полёт пятого космического туриста -- американского миллиардера венгерского происхождения <span style='background-color:#FFADAD; border-radius: 4px; padding: 2px; margin:1px'><b>Чарльза</b> <sub style='font-size: 0.7em;'>PER</sub></span> <span style='background-color:#FFADAD; border-radius: 4px; padding: 2px; margin:1px'><b>Симони</b> <sub style='font-size: 0.7em;'>PER</sub></span> . "
            ]
          },
          "metadata": {}
        },
        {
          "output_type": "display_data",
          "data": {
            "text/plain": [
              "<IPython.core.display.HTML object>"
            ],
            "text/html": [
              "Это был просто пикник на природе на окраине <span style='background-color:#A0C4FF; border-radius: 4px; padding: 2px; margin:1px'><b>Чикаго</b> <sub style='font-size: 0.7em;'>LOC</sub></span> , в котором приняли участие члены небольшой софтверной компании . "
            ]
          },
          "metadata": {}
        },
        {
          "output_type": "display_data",
          "data": {
            "text/plain": [
              "<IPython.core.display.HTML object>"
            ],
            "text/html": [
              "CHKDSK ( сокращение от check disk -- проверка диска ) -- стандартное приложение в операционных системах DOS и Microsoft Windows , которое проверяет жёсткий диск или дискету на ошибки файловой системы ( например , один и тот же сектор отмечен как принадлежащий двум разным файлам ) . "
            ]
          },
          "metadata": {}
        }
      ]
    },
    {
      "cell_type": "markdown",
      "source": [
        "Ранее сделанные наблюдения подтверждаются. Мы видим, что \"Большой Кавказ\" размечен как LOC LOC. В целом, разметка выглядит адекватной и логичной."
      ],
      "metadata": {
        "id": "dzDKhPZEn-Mj"
      }
    },
    {
      "cell_type": "markdown",
      "source": [
        "Проанализируем, насколько сбалансированы классы в нашем датасете. Это важно, так как сильный дисбаланс (что типично для NER, где тег 'O' доминирует) может повлиять на обучение модели и выбор метрик."
      ],
      "metadata": {
        "id": "fJYzJsGr1uOE"
      }
    },
    {
      "cell_type": "code",
      "source": [
        "all_tags = [tag_id for example in wikiner_ru['train'] for tag_id in example['ner_tags']]\n",
        "\n",
        "\n",
        "tag_counts = Counter(all_tags)\n",
        "\n",
        "\n",
        "decoded_tag_counts = {id2tag[tag_id]: count for tag_id, count in tag_counts.items()}\n",
        "\n",
        "\n",
        "sorted_tag_counts = dict(sorted(decoded_tag_counts.items(), key=lambda item: item[1], reverse=True))\n",
        "\n",
        "print(\"Распределение тегов в обучающей выборке:\")\n",
        "for tag, count in sorted_tag_counts.items():\n",
        "    print(f\"{tag}: {count} ({(count / len(all_tags)) * 100:.2f}%)\")\n",
        "\n",
        "\n",
        "plt.figure(figsize=(10, 6))\n",
        "sns.barplot(x=list(sorted_tag_counts.keys()), y=list(sorted_tag_counts.values()))\n",
        "plt.title('Распределение NER-тегов в обучающей выборке')\n",
        "plt.xlabel('Тег')\n",
        "plt.ylabel('Количество')\n",
        "plt.show()"
      ],
      "metadata": {
        "colab": {
          "base_uri": "https://localhost:8080/",
          "height": 655
        },
        "id": "xsxRJ6Dd1sF4",
        "outputId": "19ace1d0-ffe2-406b-f101-9d654bdef86b"
      },
      "execution_count": null,
      "outputs": [
        {
          "output_type": "stream",
          "name": "stdout",
          "text": [
            "Распределение тегов в обучающей выборке:\n",
            "O: 2534053 (89.32%)\n",
            "LOC: 139570 (4.92%)\n",
            "PER: 109978 (3.88%)\n",
            "ORG: 53543 (1.89%)\n"
          ]
        },
        {
          "output_type": "display_data",
          "data": {
            "text/plain": [
              "<Figure size 1000x600 with 1 Axes>"
            ],
            "image/png": "[encoded data removed]"
          },
          "metadata": {}
        }
      ]
    },
    {
      "cell_type": "markdown",
      "source": [
        "Как и ожидалось, наблюдается сильный дисбаланс классов. Тег O (не сущность) составляет подавляющее большинство (около 89%). Среди именованных сущностей чаще всего встречаются LOC (локации), а реже всего ORG (организации). Сущность MISC (разное) вообще не встречается в данных.\n",
        "\n",
        "\n",
        "Простая accuracy будет бесполезна. Модель, которая всегда предсказывает 'O', будет иметь точность ~89%, но при этом будет абсолютно бесполезной. Нам нужны метрики, которые учитывают дисбаланс, такие как F1-score, Precision и Recall, рассчитанные для каждого класса сущностей. Модель может \"лениться\" и предпочитать предсказывать доминирующий класс 'O'. С этим можно будет бороться в дальнейшем, например, с помощью взвешивания классов в функции потерь, но для базовой модели сделаем без этого."
      ],
      "metadata": {
        "id": "jGkU3CGN13Ww"
      }
    },
    {
      "cell_type": "markdown",
      "source": [
        "Посмотрим на распределение длин предложений. Это поможет нам определить оптимальную длину последовательности для паддинга (дополнения) и возможного усечения."
      ],
      "metadata": {
        "id": "AnKJ30Eg151_"
      }
    },
    {
      "cell_type": "code",
      "source": [
        "sentence_lengths = [len(example['words']) for example in wikiner_ru['train']]\n",
        "\n",
        "plt.figure(figsize=(10, 6))\n",
        "sns.histplot(sentence_lengths, bins=50)\n",
        "plt.title('Распределение длин предложений')\n",
        "plt.xlabel('Длина предложения (количество токенов)')\n",
        "plt.ylabel('Количество предложений')\n",
        "plt.show()\n",
        "\n",
        "print(f\"Минимальная длина предложения: {np.min(sentence_lengths)}\")\n",
        "print(f\"Максимальная длина предложения: {np.max(sentence_lengths)}\")\n",
        "print(f\"Средняя длина предложения: {np.mean(sentence_lengths):.2f}\")\n",
        "print(f\"95-й перцентиль длины: {np.percentile(sentence_lengths, 95):.2f}\")"
      ],
      "metadata": {
        "colab": {
          "base_uri": "https://localhost:8080/",
          "height": 637
        },
        "id": "OjLstu7114VH",
        "outputId": "04c262a5-0973-4238-974b-a8b557d1f32f"
      },
      "execution_count": null,
      "outputs": [
        {
          "output_type": "display_data",
          "data": {
            "text/plain": [
              "<Figure size 1000x600 with 1 Axes>"
            ],
            "image/png": "[encoded data removed]"
          },
          "metadata": {}
        },
        {
          "output_type": "stream",
          "name": "stdout",
          "text": [
            "Минимальная длина предложения: 1\n",
            "Максимальная длина предложения: 219\n",
            "Средняя длина предложения: 17.60\n",
            "95-й перцентиль длины: 36.00\n"
          ]
        }
      ]
    },
    {
      "cell_type": "markdown",
      "source": [
        "График наглядно показывает, что подавляющее большинство предложений имеют небольшую длину, с пиком в районе 10-20 токенов. При этом есть очень длинные \"выбросы\", достигающие 219 токенов. Видно, что 95% всех предложений в обучающей выборке короче 36 токенов.\n",
        "\n",
        "Установим максимальную длину предложения 40, чтобы ускорить обучение. Это значение немного выше 95-го перцентиля, что является хорошим компромиссом. Предложения короче этой длины будут дополнены специальным <PAD> токеном до длины 40. Предложения длиннее 40 токенов будут обрезаны. Это затронет менее 5% данных и позволит нам значительно повысить эффективность обучения."
      ],
      "metadata": {
        "id": "-wEAW2H32QrU"
      }
    },
    {
      "cell_type": "code",
      "source": [
        "test_tags_unique = set()\n",
        "for example in wikiner_ru['test']:\n",
        "    for tag_id in example['ner_tags']:\n",
        "        test_tags_unique.add(tag_id)\n",
        "\n",
        "misc_id = 3\n",
        "if misc_id not in test_tags_unique:\n",
        "    print(f\"Тега MISC в тестовой выборке нет.\")\n",
        "\n",
        "print(f\"Уникальные ID тегов в тестовом наборе: {sorted(list(test_tags_unique))}\")"
      ],
      "metadata": {
        "colab": {
          "base_uri": "https://localhost:8080/"
        },
        "id": "f5NL1flC10es",
        "outputId": "cc77636d-50ff-4069-f30f-a44b30c372b8"
      },
      "execution_count": null,
      "outputs": [
        {
          "output_type": "stream",
          "name": "stdout",
          "text": [
            "Тега MISC в тестовой выборке нет.\n",
            "Уникальные ID тегов в тестовом наборе: [0, 1, 2, 4]\n"
          ]
        }
      ]
    },
    {
      "cell_type": "markdown",
      "source": [
        "\n",
        "На странице датасета на Hugging Face указана схема разметки, включающая тег 'MISC'. Однако, как показал наш анализ (см. график распределения тегов), в обучающей выборке этого тега нет. Проверив тестовый набор, мы убедились, что и там он отсутствует. Чтобы сделать модель более эффективной и не обучать её на несуществующем классе,\n",
        "мы исключим 'MISC' из нашей схемы тегов."
      ],
      "metadata": {
        "id": "AR3V13na2AaL"
      }
    },
    {
      "cell_type": "code",
      "source": [
        "id2tag = {\n",
        "    0: 'O',\n",
        "    1: 'LOC',\n",
        "    2: 'PER',\n",
        "    3: 'ORG'\n",
        "}\n",
        "\n",
        "tag2id = {tag: i for i, tag in id2tag.items()}\n",
        "num_tags = len(id2tag)\n",
        "\n",
        "print(\"Скорректированная схема разметки (id -> тег):\", id2tag)\n",
        "print(\"Новое количество уникальных тегов:\", num_tags)\n",
        "\n",
        "remap_tags_dict = {0: 0, 1: 1, 2: 2, 4: 3}"
      ],
      "metadata": {
        "colab": {
          "base_uri": "https://localhost:8080/"
        },
        "id": "CF883iP82WHM",
        "outputId": "7e3e6e2e-3a43-4680-a0a1-8246983d213b"
      },
      "execution_count": null,
      "outputs": [
        {
          "output_type": "stream",
          "name": "stdout",
          "text": [
            "Скорректированная схема разметки (id -> тег): {0: 'O', 1: 'LOC', 2: 'PER', 3: 'ORG'}\n",
            "Новое количество уникальных тегов: 4\n"
          ]
        }
      ]
    },
    {
      "cell_type": "markdown",
      "source": [
        "Давайте посмотрим, какие именно сущности чаще всего встречаются в обучающей выборке. Это поможет нам понять специфику датасета (он основан на Википедии, поэтому можно ожидать много географических названий, имен исторических личностей и названий организаций) и заранее предположить, на каких примерах модель будет обучаться лучше всего."
      ],
      "metadata": {
        "id": "E0nhD6BhgHtX"
      }
    },
    {
      "cell_type": "code",
      "source": [
        "entities = {\n",
        "    'PER': Counter(),\n",
        "    'LOC': Counter(),\n",
        "    'ORG': Counter()\n",
        "}\n",
        "\n",
        "original_id2tag = {\n",
        "    0: 'O', 1: 'LOC', 2: 'PER', 3: 'MISC', 4: 'ORG'\n",
        "}\n",
        "\n",
        "\n",
        "for example in wikiner_ru['train']:\n",
        "    words = example['words']\n",
        "    tags = [original_id2tag.get(tag_id, 'O') for tag_id in example['ner_tags']]\n",
        "\n",
        "    current_entity_words = []\n",
        "    current_entity_tag = None\n",
        "\n",
        "    for word, tag in zip(words + ['DUMMY'], tags + ['O']):\n",
        "        simple_tag = tag.split('-')[-1]\n",
        "\n",
        "        if simple_tag in entities:\n",
        "            if current_entity_tag is None:\n",
        "                current_entity_tag = simple_tag\n",
        "                current_entity_words.append(word)\n",
        "            elif current_entity_tag == simple_tag:\n",
        "                current_entity_words.append(word)\n",
        "            else:\n",
        "                if current_entity_words:\n",
        "                    entities[current_entity_tag][' '.join(current_entity_words)] += 1\n",
        "                current_entity_tag = simple_tag\n",
        "                current_entity_words = [word]\n",
        "        else:\n",
        "            if current_entity_words:\n",
        "                entities[current_entity_tag][' '.join(current_entity_words)] += 1\n",
        "            current_entity_words = []\n",
        "            current_entity_tag = None\n",
        "\n",
        "N_TOP = 15\n",
        "\n",
        "for tag, counter in entities.items():\n",
        "    most_common_df = pd.DataFrame(counter.most_common(N_TOP), columns=['Сущность', 'Частота'])\n",
        "\n",
        "    plt.figure(figsize=(10, 8))\n",
        "    sns.barplot(x='Частота', y='Сущность', data=most_common_df, palette='viridis')\n",
        "    plt.title(f'Топ-{N_TOP} самых частых сущностей для класса: {tag}', fontsize=16)\n",
        "    plt.xlabel('Частота', fontsize=12)\n",
        "    plt.ylabel('Сущность', fontsize=12)\n",
        "    plt.grid(axis='x', linestyle='--', alpha=0.7)\n",
        "    plt.show()"
      ],
      "metadata": {
        "colab": {
          "base_uri": "https://localhost:8080/",
          "height": 1000
        },
        "id": "pEBYDWy_gJiX",
        "outputId": "1203ae01-4e1f-4a94-b327-2af88da7d485"
      },
      "execution_count": null,
      "outputs": [
        {
          "output_type": "display_data",
          "data": {
            "text/plain": [
              "<Figure size 1000x800 with 1 Axes>"
            ],
            "image/png": "[encoded data removed]"
          },
          "metadata": {}
        },
        {
          "output_type": "display_data",
          "data": {
            "text/plain": [
              "<Figure size 1000x800 with 1 Axes>"
            ],
            "image/png": "[encoded data removed]"
          },
          "metadata": {}
        },
        {
          "output_type": "display_data",
          "data": {
            "text/plain": [
              "<Figure size 1000x800 with 1 Axes>"
            ],
            "image/png": "[encoded data removed]"
          },
          "metadata": {}
        }
      ]
    },
    {
      "cell_type": "markdown",
      "source": [
        "*   **LOC (Локации):** В топе предсказуемо находятся названия стран (**США**, **России**), городов (**Москва**) и континентов/частей света (**Европа**). Это очень частые и, в большинстве случаев, однозначные сущности. Ожидается, что модель научится их определять без особого труда.\n",
        "\n",
        "*   **PER (Персоны):** Здесь мы видим имена исторических личностей и правителей (**Петр I**, **Екатерина II**, **Наполеон**). Интересно, что в топе есть как полные имена, так и имена с номерами. Это говорит о том, что модели нужно будет научиться работать с разными форматами имен и распознавать их как единую сущность.\n",
        "\n",
        "*   **ORG (Организации):** Самой частой сущностью с большим отрывом является **\"СССР\"**. Это подсвечивает важную проблему и особенность NER — зависимость от контекста. В данном датасете \"СССР\" чаще всего размечался как организация, а не как географическая территория. Также в топе присутствуют названия крупных технологических компаний (Microsoft, IBM, Intel, Apple) и политических партий (КПСС). Модели необходимо будет научиться на основе контекста различать, когда название страны является локацией а когда — организацией.\n"
      ],
      "metadata": {
        "id": "iaxN_VemgMDv"
      }
    },
    {
      "cell_type": "markdown",
      "source": [
        "Помимо самих сущностей, полезно посмотреть на их длину в токенах. Состоят ли они в основном из одного слова или из нескольких? Это влияет на сложность задачи. Модели LSTM хорошо справляются с запоминанием контекста, что важно для многословных сущностей."
      ],
      "metadata": {
        "id": "vVobEMlTgQRX"
      }
    },
    {
      "cell_type": "code",
      "source": [
        "entity_lengths = []\n",
        "for tag, counter in entities.items():\n",
        "    for entity, count in counter.items():\n",
        "        entity_lengths.append((tag, len(entity.split()), count))\n",
        "\n",
        "df_lengths = pd.DataFrame(entity_lengths, columns=['Tag', 'Length', 'Count'])\n",
        "\n",
        "plt.figure(figsize=(12, 7))\n",
        "sns.boxplot(x='Tag', y='Length', data=df_lengths, showfliers=False)\n",
        "plt.title('Распределение длин именованных сущностей (в токенах)')\n",
        "plt.xlabel('Тип сущности')\n",
        "plt.ylabel('Длина в токенах')\n",
        "plt.show()\n",
        "\n",
        "print(\"Средняя длина сущности по типам:\")\n",
        "print(df_lengths.groupby('Tag')['Length'].mean().round(2))"
      ],
      "metadata": {
        "colab": {
          "base_uri": "https://localhost:8080/",
          "height": 750
        },
        "id": "8jKy_g-jgOzA",
        "outputId": "ae6a9067-cae1-440b-ec35-b0dadf71f8cb"
      },
      "execution_count": null,
      "outputs": [
        {
          "output_type": "display_data",
          "data": {
            "text/plain": [
              "<Figure size 1200x700 with 1 Axes>"
            ],
            "image/png": "[encoded data removed]"
          },
          "metadata": {}
        },
        {
          "output_type": "stream",
          "name": "stdout",
          "text": [
            "Средняя длина сущности по типам:\n",
            "Tag\n",
            "LOC    1.63\n",
            "ORG    2.20\n",
            "PER    1.99\n",
            "Name: Length, dtype: float64\n"
          ]
        }
      ]
    },
    {
      "cell_type": "markdown",
      "source": [
        "График показывает, что медианная длина всех типов сущностей составляет 1-2 токена. Однако у класса ORG наблюдается наибольший разброс в длине, что говорит о наличии как коротких , так и длинных названий организаций. Это подтверждает, что использование двунаправленной LSTM является хорошим выбором, так как она способна захватывать зависимости между словами в рамках одной многословной сущности."
      ],
      "metadata": {
        "id": "u0NIsivEgTpH"
      }
    },
    {
      "cell_type": "markdown",
      "source": [
        "Анализ словаря на предмет \"шума\"\n",
        "\n",
        "Прежде чем строить итоговый словарь, давайте посмотрим на \"сырые\" токены, чтобы оценить их качество. Нас интересуют две вещи:\n",
        "1.  **Количество очень редких слов:** Большое количество слов, которые встречаются 1-2 раза, часто указывает на опечатки, уникальные идентификаторы или просто очень специфичные термины, которые модель не сможет выучить.\n",
        "2.  **Наличие \"мусорных\" токенов:** Токены, состоящие из пунктуации, или слова, \"склеенные\" со знаками препинания."
      ],
      "metadata": {
        "id": "9NdWIF9FugBF"
      }
    },
    {
      "cell_type": "code",
      "source": [
        "raw_word_counts = Counter(word.lower() for sentence in wikiner_ru['train']['words'] for word in sentence)\n",
        "\n",
        "print(f\"Общее количество уникальных токенов в сырых данных: {len(raw_word_counts)}\")\n",
        "\n",
        "single_occurrence_words = sum(1 for count in raw_word_counts.values() if count == 1)\n",
        "print(f\"Количество токенов, которые встречаются только 1 раз: {single_occurrence_words} ({(single_occurrence_words / len(raw_word_counts)) * 100:.2f}%)\")\n",
        "\n",
        "print(\"\\nПримеры самых редких токенов:\")\n",
        "print(raw_word_counts.most_common()[-10:])\n",
        "\n",
        "print(\"\\nПримеры 'мусорных' токенов:\")\n",
        "garbage_examples = []\n",
        "allowed_chars_re_check = re.compile(r\"^[a-zа-яё-]+$\")\n",
        "for word, count in raw_word_counts.most_common():\n",
        "    if not allowed_chars_re_check.match(word) and not word.isnumeric():\n",
        "        garbage_examples.append(word)\n",
        "    if len(garbage_examples) >= 10:\n",
        "        break\n",
        "print(garbage_examples)"
      ],
      "metadata": {
        "colab": {
          "base_uri": "https://localhost:8080/"
        },
        "id": "knBlZL2VulJJ",
        "outputId": "d77157d2-9ad5-477b-e508-ddbe272ab916"
      },
      "execution_count": null,
      "outputs": [
        {
          "output_type": "stream",
          "name": "stdout",
          "text": [
            "Общее количество уникальных токенов в сырых данных: 218477\n",
            "Количество токенов, которые встречаются только 1 раз: 113040 (51.74%)\n",
            "\n",
            "Примеры самых редких токенов:\n",
            "[('сатанисткую', 1), ('уиннипесоки', 1), ('toxic', 1), ('програть', 1), ('радиодоступа', 1), ('гроссмейстеры', 1), ('гидеон', 1), ('бирюзовый', 1), ('материкам', 1), ('интродуцированной', 1)]\n",
            "\n",
            "Примеры 'мусорных' токенов:\n",
            "[',', '.', '\"', ')', '(', ':', 'г.', ';', 'а.', '%']\n"
          ]
        }
      ]
    },
    {
      "cell_type": "markdown",
      "source": [
        "*   Более половины (51.74%) всех уникальных токенов встречаются в тексте всего один раз! Обучать модель на таких данных бессмысленно — она не сможет сделать никаких обобщений и просто \"запомнит\" эти слова, что ведет к переобучению. Это доказывает необходимость частотной фильтрации.\n",
        "*   Мы видим множество \"мусорных\" токенов, которые не являются словами, но были выделены при токенизации датасета. Это доказывает необходимость фильтрации по символьному составу.\n",
        "*   Также мы обобщим числа до одного токена `<NUM>`.\n"
      ],
      "metadata": {
        "id": "nbuCDTGVuwb9"
      }
    },
    {
      "cell_type": "markdown",
      "source": [
        "Резюмируем.\n",
        "Проведенный анализ даёт следующие выводы:\n",
        "\n",
        "Сильный дисбаланс классов: Подавляющее большинство токенов (~89%) относится к классу 'O'. Это значит, что метрика accuracy будет бесполезна. Мы должны сфокусироваться на F1-score, Precision и Recall для каждого класса и на их усредненных значениях.\n",
        "\n",
        "Структура сущностей: Сущности в основном короткие (1-2 слова), но встречаются и более длинные. Схема разметки простая (без IOB). Это делает Bi-LSTM хорошим кандидатом, так как она может улавливать зависимости внутри многословных сущностей. Логичным следующим шагом для учета структурных зависимостей между тегами выглядит добавление CRF-слоя.\n",
        "\n",
        "Разнообразие и контекст: Датасет содержит разнообразные сущности, и их тип часто зависит от контекста (например, \"Россия\" как LOC или ORG). Это требование к модели быть достаточно мощной, чтобы улавливать контекстные подсказки. Архитектуры на основе RNN (как LSTM) и тем более трансформеры (BERT) хорошо для этого подходят. Но трансформеры использовать в работе не будем, оставим это на следующие работы.\n",
        "\n",
        "Длина предложений: Большинство предложений относительно короткие (95% короче 36 токенов). Выбранное значение MAX_LEN = 40 является разумным компромиссом, который позволит охватить почти все данные, не создавая излишней вычислительной нагрузки из-за паддинга."
      ],
      "metadata": {
        "id": "DDqbSc_ugdNv"
      }
    },
    {
      "cell_type": "markdown",
      "source": [
        "# Предобработка данных"
      ],
      "metadata": {
        "id": "_IBd-BAprZsI"
      }
    },
    {
      "cell_type": "markdown",
      "source": [
        "Как показал предыдущий анализ словаря, он содержит огромное количество редких и \"мусорных\" токенов. Нужно сделать модель более устойчивой к переобучению и уменьшить размерность данных.\n",
        "\n",
        "Проведем очистку и нормализацию данных со следующими шагами:\n",
        "1.  **Нормализация чисел:** Заменим все числа на специальный токен `<NUM>`.\n",
        "2.  **Фильтрация токенов:** Оставим только токены, состоящие из букв, дефисов и нашего спецтокена `<NUM>`.\n",
        "3.  **Частотный порог:** Посчитаем частоту встречаемости каждого слова и добавим в итоговый словарь только те, которые встретились 3 или более раз. Остальные будут заменены на `<UNK>`."
      ],
      "metadata": {
        "id": "jwqwrnYau-O9"
      }
    },
    {
      "cell_type": "code",
      "source": [
        "word_counts = Counter()\n",
        "for sentence in wikiner_ru['train']['words']:\n",
        "    for word in sentence:\n",
        "        word = word.lower()\n",
        "        word = re.sub(r'\\d+', '<NUM>', word)\n",
        "        word_counts[word] += 1\n",
        "\n",
        "print(f\"Количество уникальных токенов до фильтрации: {len(word_counts)}\")\n",
        "\n",
        "\n",
        "MIN_FREQ = 3\n",
        "word2id = {'<PAD>': 0, '<UNK>': 1, '<NUM>': 2}\n",
        "current_id = 3\n",
        "\n",
        "\n",
        "allowed_chars_re = re.compile(r\"^[a-zа-яё-]+$\")\n",
        "\n",
        "for word, count in word_counts.items():\n",
        "    if count >= MIN_FREQ:\n",
        "\n",
        "        if allowed_chars_re.match(word) or word == '<NUM>':\n",
        "            if word not in word2id:\n",
        "                word2id[word] = current_id\n",
        "                current_id += 1\n",
        "\n",
        "id2word = {i: word for word, i in word2id.items()}\n",
        "vocab_size = len(word2id)\n",
        "\n",
        "print(f\"Размер итогового словаря (слова с частотой >= {MIN_FREQ}): {vocab_size}\")\n",
        "\n",
        "\n",
        "example_word = 'ставрополь'\n",
        "print(f\"ID для слова '{example_word}': {word2id.get(example_word, word2id['<UNK>'])}\")\n",
        "\n",
        "example_num = '234'\n",
        "processed_num = re.sub(r'\\d+', '<NUM>', example_num.lower())\n",
        "print(f\"ID для числа '{example_num}': {word2id.get(processed_num, word2id['<UNK>'])}\")\n",
        "\n",
        "\n",
        "example_rare = ',-учение,разработанное'\n",
        "print(f\"ID для мусорного токена '{example_rare}': {word2id.get(example_rare, word2id['<UNK>'])}\")"
      ],
      "metadata": {
        "colab": {
          "base_uri": "https://localhost:8080/"
        },
        "id": "fgyX5IhwvOqB",
        "outputId": "1f7fcee3-66c3-417d-9f83-2ddd96310e02"
      },
      "execution_count": null,
      "outputs": [
        {
          "output_type": "stream",
          "name": "stdout",
          "text": [
            "Количество уникальных токенов до фильтрации: 208773\n",
            "Размер итогового словаря (слова с частотой >= 3): 68771\n",
            "ID для слова 'ставрополь': 29\n",
            "ID для числа '234': 2\n",
            "ID для мусорного токена ',-учение,разработанное': 1\n"
          ]
        }
      ]
    },
    {
      "cell_type": "markdown",
      "source": [
        "Токенизация в нашем случае не требуется, так как датасет токенизирован. Сделаем преобразование в ID и паддинг.\n",
        "\n",
        "Для паддинга тегов используется значение -100. Это стандартная практика, так как функция потерь в PyTorch по умолчанию игнорирует этот индекс и не учитывает его при расчете ошибки, что позволяет нам работать с последовательностями разной длины в одном батче.\n"
      ],
      "metadata": {
        "id": "ykOaSQUM2UZT"
      }
    },
    {
      "cell_type": "code",
      "source": [
        "MAX_LEN = 40\n",
        "\n",
        "def tokenize_and_pad(examples):\n",
        "    processed_words_lists = [\n",
        "        [re.sub(r'\\d+', '<NUM>', word.lower()) for word in words_list]\n",
        "        for words_list in examples['words']\n",
        "    ]\n",
        "\n",
        "    token_ids = [\n",
        "        [word2id.get(word, word2id['<UNK>']) for word in words_list]\n",
        "        for words_list in processed_words_lists\n",
        "    ]\n",
        "\n",
        "    padded_token_ids = [\n",
        "        seq[:MAX_LEN] + [word2id['<PAD>']] * max(0, MAX_LEN - len(seq))\n",
        "        for seq in token_ids\n",
        "    ]\n",
        "\n",
        "    padded_tag_ids = [\n",
        "      [remap_tags_dict.get(tag_id) for tag_id in seq[:MAX_LEN]] + [-100] * max(0, MAX_LEN - len(seq))\n",
        "      for seq in examples['ner_tags']\n",
        "    ]\n",
        "\n",
        "    return {'input_ids': padded_token_ids, 'labels': padded_tag_ids}\n",
        "\n",
        "\n",
        "processed_wikiner = wikiner_ru.map(tokenize_and_pad, batched=True)\n",
        "\n",
        "print(\"Пример обработки:\")\n",
        "original_words = processed_wikiner['train'][2]['words']\n",
        "print(\"Оригинальные слова:\", original_words)\n",
        "print(\"ID слов (до MAX_LEN):\", processed_wikiner['train'][2]['input_ids'][:len(original_words)])\n",
        "print(\"ID тегов (до MAX_LEN):\", processed_wikiner['train'][2]['labels'][:len(original_words)])"
      ],
      "metadata": {
        "colab": {
          "base_uri": "https://localhost:8080/",
          "height": 174,
          "referenced_widgets": [
            "8ce19ba0e7f145d7bcfd06a3e641a1fa",
            "d90d33fed69845958f242465ab87ca64",
            "f6527344e8ef4315a0043a3c82c46ebf",
            "e3a5e9c87e114c40acc6b2fadae048db",
            "37f79dd60bfb4cbcae823402a85157b3",
            "4e5eb97613fe43d0a82ccaa59e12420e",
            "6b1d9e4279664e849942b703f0f19384",
            "ee183f69e3594c30a2b15196d1dda851",
            "3d7b8ab204cb4ebdb872d41dd6619bf4",
            "de7873a79b684047a254ef6070318d70",
            "87741fd0909648df954f7cc0ce9e3873",
            "c835a967d85e40369962e98efcff883a",
            "991fcbc7291d40ee9b474e4b64fe0729",
            "33b07e03c97b466cb6c7b066f3b760cc",
            "ee63b49e7a414ea7bc89f2d08c3f57ab",
            "a03ff7777cbc4f64afd66794f2fa9f6f",
            "1d9c3adc15524bbd8487700ace0f0a09",
            "8f5d701b57fb4bb4afd77e951df5e08a",
            "da00fe0b15394a63bda6998450e5a100",
            "88d04e1a8ffa47caa790840c87853b9f",
            "f4db85defca94d2f89169e6a08d6a834",
            "48f1426c74114c6287dae6eb69782fd3"
          ]
        },
        "id": "_s-yOuQs2SWH",
        "outputId": "b7a4950e-11b9-46d3-8111-5c694c055dba"
      },
      "execution_count": null,
      "outputs": [
        {
          "output_type": "display_data",
          "data": {
            "text/plain": [
              "Map:   0%|          | 0/161238 [00:00<?, ? examples/s]"
            ],
            "application/vnd.jupyter.widget-view+json": {
              "version_major": 2,
              "version_minor": 0,
              "model_id": "8ce19ba0e7f145d7bcfd06a3e641a1fa"
            }
          },
          "metadata": {}
        },
        {
          "output_type": "display_data",
          "data": {
            "text/plain": [
              "Map:   0%|          | 0/17912 [00:00<?, ? examples/s]"
            ],
            "application/vnd.jupyter.widget-view+json": {
              "version_major": 2,
              "version_minor": 0,
              "model_id": "c835a967d85e40369962e98efcff883a"
            }
          },
          "metadata": {}
        },
        {
          "output_type": "stream",
          "name": "stdout",
          "text": [
            "Пример обработки:\n",
            "Оригинальные слова: ['Город', 'расположен', 'в', '234', 'км', 'от', 'г.', 'Ставрополь', ',', 'в', 'северных', 'предгорьях', 'Большого', 'Кавказа', 'на', 'высоте', '800', '--', '1069', 'м', 'над', 'уровнем', 'моря', '.']\n",
            "ID слов (до MAX_LEN): [25, 26, 16, 2, 27, 28, 1, 29, 1, 16, 30, 31, 32, 33, 34, 35, 2, 5, 2, 36, 37, 38, 39, 1]\n",
            "ID тегов (до MAX_LEN): [0, 0, 0, 0, 0, 0, 0, 1, 0, 0, 0, 0, 1, 1, 0, 0, 0, 0, 0, 0, 0, 0, 0, 0]\n"
          ]
        }
      ]
    },
    {
      "cell_type": "markdown",
      "source": [
        "# Обучение моделей"
      ],
      "metadata": {
        "id": "KayJq1cczzR6"
      }
    },
    {
      "cell_type": "markdown",
      "source": [
        "Теперь проведём два эксперимента с LSTM.\n",
        "\n",
        "\n",
        "Эксперимент 1 (Baseline): Модель на основе двунаправленной LSTM (Bi-LSTM). Это будет нашей отправной точкой.\n",
        "\n",
        "Эксперимент 2 (Улучшение): Bi-LSTM + слой CRF (Conditional Random Field). Это улучшение, которое добавляет логику в последовательность предсказанных тегов."
      ],
      "metadata": {
        "id": "XRh4yWGx2hpr"
      }
    },
    {
      "cell_type": "markdown",
      "source": [
        "Эксперимент 1: Модель Bi-LSTM\n",
        "\n",
        "Наша базовая модель имеет следующую архитектуру, состоящую из трех ключевых слоев:\n",
        "\n",
        "*   **Слой `nn.Embedding`:** Преобразует входные ID токенов в плотные векторные представления (эмбеддинги) фиксированной размерности (`embedding_dim`). В процессе обучения слой выучивает семантически близкие представления для схожих по контексту слов.\n",
        "\n",
        "*   **Слой `nn.LSTM` с `bidirectional=True`:** Обрабатывает последовательность эмбеддингов в двух направлениях: прямом (от начала к концу) и обратном. Это позволяет модели для каждого токена формировать контекстно-зависимое представление, учитывающее как предыдущие, так и последующие слова, что особенно важно для распознавания многословных сущностей.\n",
        "\n",
        "*   **Полносвязный слой `nn.Linear`:** Принимает скрытое состояние от Bi-LSTM для каждого токена и проецирует его на пространство размером в количество наших NER-тегов (`num_tags`). В результате для каждого слова генерируются логиты, которые используются для предсказания наиболее вероятного тега."
      ],
      "metadata": {
        "id": "xyVWcN832lIH"
      }
    },
    {
      "cell_type": "code",
      "source": [
        "train_inputs = torch.tensor(processed_wikiner['train']['input_ids'])\n",
        "train_labels = torch.tensor(processed_wikiner['train']['labels'])\n",
        "test_inputs = torch.tensor(processed_wikiner['test']['input_ids'])\n",
        "test_labels = torch.tensor(processed_wikiner['test']['labels'])\n",
        "\n",
        "train_dataset = TensorDataset(train_inputs, train_labels)\n",
        "test_dataset = TensorDataset(test_inputs, test_labels)\n",
        "\n",
        "BATCH_SIZE = 32\n",
        "train_loader = DataLoader(train_dataset, batch_size=BATCH_SIZE, shuffle=True)\n",
        "test_loader = DataLoader(test_dataset, batch_size=BATCH_SIZE)\n",
        "\n",
        "\n",
        "class BiLSTM_NER(nn.Module):\n",
        "    def __init__(self, vocab_size, embedding_dim, hidden_dim, num_tags):\n",
        "\n",
        "        super(BiLSTM_NER, self).__init__()\n",
        "        self.embedding = nn.Embedding(vocab_size, embedding_dim, padding_idx=word2id['<PAD>'])\n",
        "        self.lstm = nn.LSTM(embedding_dim, hidden_dim, batch_first=True, bidirectional=True)\n",
        "        self.fc = nn.Linear(hidden_dim * 2, num_tags)\n",
        "\n",
        "    def forward(self, x):\n",
        "        embedded = self.embedding(x)\n",
        "        lstm_out, _ = self.lstm(embedded)\n",
        "        logits = self.fc(lstm_out)\n",
        "\n",
        "        return logits\n",
        "\n",
        "\n",
        "EMBEDDING_DIM = 100\n",
        "HIDDEN_DIM = 128\n",
        "model = BiLSTM_NER(vocab_size, EMBEDDING_DIM, HIDDEN_DIM, num_tags)\n",
        "\n",
        "device = torch.device('cuda' if torch.cuda.is_available() else 'cpu')\n",
        "model.to(device)\n",
        "\n",
        "print(model)"
      ],
      "metadata": {
        "colab": {
          "base_uri": "https://localhost:8080/"
        },
        "id": "0LtonhEb2iZf",
        "outputId": "afd62173-b6ac-4aaf-bfd5-bf154d4ffa98"
      },
      "execution_count": null,
      "outputs": [
        {
          "output_type": "stream",
          "name": "stdout",
          "text": [
            "BiLSTM_NER(\n",
            "  (embedding): Embedding(68771, 100, padding_idx=0)\n",
            "  (lstm): LSTM(100, 128, batch_first=True, bidirectional=True)\n",
            "  (fc): Linear(in_features=256, out_features=4, bias=True)\n",
            ")\n"
          ]
        }
      ]
    },
    {
      "cell_type": "markdown",
      "source": [
        "*   **Функция потерь:** В качестве функции потерь используется `nn.CrossEntropyLoss`. Параметр `ignore_index=-100` обеспечивает корректную обработку паддинг-токенов — они не учитываются при вычислении градиентов.\n",
        "\n",
        "*   **Оптимизатор:** Для оптимизации весов модели выбран алгоритм `Adam` со стандартной скоростью обучения `0.001`.\n",
        "\n",
        "*   **Метрики качества:** Учитывая сильный дисбаланс классов, выявленный в ходе EDA, для оценки качества модели используются стандартные для NER-задач метрики: **Precision, Recall и F1-score**. Расчет метрик производится с помощью библиотеки `seqeval`, которая корректно оценивает качество на уровне целых именованных сущностей."
      ],
      "metadata": {
        "id": "vuLONila24Jf"
      }
    },
    {
      "cell_type": "code",
      "source": [
        "optimizer = torch.optim.Adam(model.parameters(), lr=0.001)\n",
        "criterion = nn.CrossEntropyLoss(ignore_index=-100)\n",
        "\n",
        "def train_epoch(model, data_loader, criterion, optimizer, device):\n",
        "    model.train()\n",
        "    total_loss = 0\n",
        "\n",
        "    for inputs, labels in tqdm(data_loader, desc=\"Training\"):\n",
        "        inputs, labels = inputs.to(device), labels.to(device)\n",
        "\n",
        "        optimizer.zero_grad()\n",
        "        outputs = model(inputs)\n",
        "        loss = criterion(outputs.view(-1, num_tags), labels.view(-1))\n",
        "        loss.backward()\n",
        "        optimizer.step()\n",
        "\n",
        "        total_loss += loss.item()\n",
        "\n",
        "    return total_loss / len(data_loader)\n",
        "\n",
        "def to_iob(tags_list, id2tag_map):\n",
        "    iob_tags = []\n",
        "    for i, tag_id in enumerate(tags_list):\n",
        "        tag = id2tag_map[tag_id]\n",
        "        if tag == 'O':\n",
        "            iob_tags.append('O')\n",
        "        elif i == 0 or id2tag_map[tags_list[i-1]] != tag:\n",
        "            iob_tags.append('B-' + tag)\n",
        "        else:\n",
        "            iob_tags.append('I-' + tag)\n",
        "    return iob_tags\n",
        "\n",
        "\n",
        "def evaluate(model, data_loader, device, id2tag_map):\n",
        "    model.eval()\n",
        "    all_preds_iob = []\n",
        "    all_true_iob = []\n",
        "\n",
        "    with torch.no_grad():\n",
        "        for inputs, labels in tqdm(data_loader, desc=\"Evaluating\"):\n",
        "            inputs, labels = inputs.to(device), labels.to(device)\n",
        "\n",
        "            outputs = model(inputs)\n",
        "            preds = torch.argmax(outputs, dim=2)\n",
        "\n",
        "            for i in range(labels.shape[0]):\n",
        "                true_tags_ids = [label_id.item() for label_id in labels[i] if label_id != -100]\n",
        "                pred_tags_ids = [pred_id.item() for pred_id, label_id in zip(preds[i], labels[i]) if label_id != -100]\n",
        "\n",
        "                all_true_iob.append(to_iob(true_tags_ids, id2tag_map))\n",
        "                all_preds_iob.append(to_iob(pred_tags_ids, id2tag_map))\n",
        "\n",
        "    return classification_report(all_true_iob, all_preds_iob, output_dict=True, zero_division=0)"
      ],
      "metadata": {
        "id": "4DaFhk1024pz"
      },
      "execution_count": null,
      "outputs": []
    },
    {
      "cell_type": "markdown",
      "source": [
        "Эксперимент 1: обучение."
      ],
      "metadata": {
        "id": "lKi4J60d2905"
      }
    },
    {
      "cell_type": "code",
      "source": [
        "NUM_EPOCHS = 3\n",
        "\n",
        "\n",
        "for epoch in range(NUM_EPOCHS):\n",
        "    start_time = time.time()\n",
        "\n",
        "    avg_train_loss = train_epoch(model, train_loader, criterion, optimizer, device)\n",
        "\n",
        "    report = evaluate(model, test_loader, device, id2tag)\n",
        "\n",
        "    end_time = time.time()\n",
        "    epoch_mins, epoch_secs = divmod(end_time - start_time, 60)\n",
        "\n",
        "    print(f'\\nЭпоха: {epoch+1:02} | Время: {int(epoch_mins)}m {int(epoch_secs)}s')\n",
        "    print(f'\\tСредняя потеря на обучении: {avg_train_loss:.3f}')\n",
        "    print(\"\\tРезультаты на тестовой выборке:\")\n",
        "\n",
        "\n",
        "    entity_types = ['PER', 'LOC', 'ORG']\n",
        "\n",
        "\n",
        "    for tag in entity_types:\n",
        "        if tag in report:\n",
        "            metrics = report[tag]\n",
        "            print(f\"\\t\\t{tag:<10} - \"\n",
        "                  f\"Precision: {metrics['precision']:.4f} | \"\n",
        "                  f\"Recall: {metrics['recall']:.4f} | \"\n",
        "                  f\"F1-score: {metrics['f1-score']:.4f}\")\n",
        "\n",
        "    if 'weighted avg' in report:\n",
        "        weighted_avg = report['weighted avg']\n",
        "        print(f\"\\t\\t{'Overall (Weighted)':<18} - \"\n",
        "              f\"Precision: {weighted_avg['precision']:.4f} | \"\n",
        "              f\"Recall: {weighted_avg['recall']:.4f} | \"\n",
        "              f\"F1-score: {weighted_avg['f1-score']:.4f}\")\n",
        "\n",
        "    if 'accuracy' in report:\n",
        "        print(f\"\\t\\t{'Accuracy':<18} - {report['accuracy']:.4f}\")"
      ],
      "metadata": {
        "colab": {
          "base_uri": "https://localhost:8080/"
        },
        "id": "mTbG0mLS3IyN",
        "outputId": "9b8befb3-6a16-4ddc-cb9b-7f00ff5e245d"
      },
      "execution_count": null,
      "outputs": [
        {
          "output_type": "stream",
          "name": "stderr",
          "text": [
            "Training: 100%|██████████| 5039/5039 [15:36<00:00,  5.38it/s]\n",
            "Evaluating: 100%|██████████| 560/560 [00:26<00:00, 21.32it/s]\n"
          ]
        },
        {
          "output_type": "stream",
          "name": "stdout",
          "text": [
            "\n",
            "Эпоха: 01 | Время: 16m 6s\n",
            "\tСредняя потеря на обучении: 0.210\n",
            "\tРезультаты на тестовой выборке:\n",
            "\t\tPER        - Precision: 0.5731 | Recall: 0.4936 | F1-score: 0.5304\n",
            "\t\tLOC        - Precision: 0.7773 | Recall: 0.6889 | F1-score: 0.7304\n",
            "\t\tORG        - Precision: 0.5911 | Recall: 0.4359 | F1-score: 0.5018\n",
            "\t\tOverall (Weighted) - Precision: 0.6861 | Recall: 0.5894 | F1-score: 0.6335\n"
          ]
        },
        {
          "output_type": "stream",
          "name": "stderr",
          "text": [
            "Training: 100%|██████████| 5039/5039 [16:06<00:00,  5.22it/s]\n",
            "Evaluating: 100%|██████████| 560/560 [00:26<00:00, 21.38it/s]\n"
          ]
        },
        {
          "output_type": "stream",
          "name": "stdout",
          "text": [
            "\n",
            "Эпоха: 02 | Время: 16m 35s\n",
            "\tСредняя потеря на обучении: 0.103\n",
            "\tРезультаты на тестовой выборке:\n",
            "\t\tPER        - Precision: 0.6566 | Recall: 0.5962 | F1-score: 0.6250\n",
            "\t\tLOC        - Precision: 0.8108 | Recall: 0.7575 | F1-score: 0.7832\n",
            "\t\tORG        - Precision: 0.6615 | Recall: 0.5492 | F1-score: 0.6002\n",
            "\t\tOverall (Weighted) - Precision: 0.7405 | Recall: 0.6754 | F1-score: 0.7062\n"
          ]
        },
        {
          "output_type": "stream",
          "name": "stderr",
          "text": [
            "Training: 100%|██████████| 5039/5039 [16:15<00:00,  5.16it/s]\n",
            "Evaluating: 100%|██████████| 560/560 [00:27<00:00, 20.51it/s]\n"
          ]
        },
        {
          "output_type": "stream",
          "name": "stdout",
          "text": [
            "\n",
            "Эпоха: 03 | Время: 16m 47s\n",
            "\tСредняя потеря на обучении: 0.071\n",
            "\tРезультаты на тестовой выборке:\n",
            "\t\tPER        - Precision: 0.6940 | Recall: 0.6321 | F1-score: 0.6616\n",
            "\t\tLOC        - Precision: 0.8238 | Recall: 0.7776 | F1-score: 0.8000\n",
            "\t\tORG        - Precision: 0.6862 | Recall: 0.6009 | F1-score: 0.6407\n",
            "\t\tOverall (Weighted) - Precision: 0.7627 | Recall: 0.7054 | F1-score: 0.7328\n"
          ]
        }
      ]
    },
    {
      "cell_type": "markdown",
      "source": [
        "**Результат:** Модель Bi-LSTM показала базовое качество в задаче NER. Как показал анализ, класс `LOC` распознается лучше всего, в то время как `ORG` — сложнее, что логично, так как названия организаций более разнообразны и контекстно-зависимы.\n",
        "\n",
        "**Недостатки** Главный недостаток этой архитектуры — **независимость решений**. Модель предсказывает тег для каждого слова отдельно. Это может приводить к логически неверным последовательностям тегов.\n",
        "\n",
        "**Улучшение:** Чтобы исправить это, нужно добавить слой, который учитывает зависимости между предсказанными тегами. Идеальным кандидатом на эту роль является **CRF (Conditional Random Field)**."
      ],
      "metadata": {
        "id": "NNFDv3DR3B2z"
      }
    },
    {
      "cell_type": "markdown",
      "source": [
        "Эксперимент 2: Модель Bi-LSTM + CRF\n",
        "\n",
        "Для улучшения базовой модели мы добавляем слой **CRF** поверх Bi-LSTM. Архитектура теперь состоит из следующих компонентов:\n",
        "\n",
        "*   **Слои `nn.Embedding` и `nn.LSTM`:** Работают так же, как и в базовой модели, генерируя контекстно-зависимые логиты для каждого токена.\n",
        "\n",
        "*   **Слой `CRF`:** Этот слой является ключевым улучшением. Он работает не с отдельными токенами, а со всей последовательностью целиком. В процессе обучения `CRF`-слой выучивает матрицу вероятностей переходов между тегами.\n",
        "\n",
        "Во время предсказания (инференса) `CRF`-слой использует эти выученные правила, чтобы найти не просто наиболее вероятный тег для каждого слова, а наиболее вероятную последовательность тегов для всего предложения."
      ],
      "metadata": {
        "id": "6jJnIKlQ3Fb3"
      }
    },
    {
      "cell_type": "code",
      "source": [
        "class BiLSTM_CRF_NER(nn.Module):\n",
        "    def __init__(self, vocab_size, embedding_dim, hidden_dim, num_tags):\n",
        "        super(BiLSTM_CRF_NER, self).__init__()\n",
        "        self.embedding = nn.Embedding(vocab_size, embedding_dim, padding_idx=word2id['<PAD>'])\n",
        "        self.lstm = nn.LSTM(embedding_dim, hidden_dim, batch_first=True, bidirectional=True)\n",
        "        self.fc = nn.Linear(hidden_dim * 2, num_tags)\n",
        "        self.crf = CRF(num_tags, batch_first=True)\n",
        "\n",
        "    def forward(self, x, tags=None):\n",
        "        embedded = self.embedding(x)\n",
        "        lstm_out, _ = self.lstm(embedded)\n",
        "        logits = self.fc(lstm_out)\n",
        "        mask = (x != word2id['<PAD>'])\n",
        "\n",
        "        if tags is not None:\n",
        "            loss = -self.crf(logits, tags, mask=mask, reduction='mean')\n",
        "            return loss\n",
        "        else:\n",
        "            decoded_tags = self.crf.decode(logits, mask=mask)\n",
        "            return decoded_tags\n",
        "\n",
        "model_crf = BiLSTM_CRF_NER(vocab_size, EMBEDDING_DIM, HIDDEN_DIM, num_tags)\n",
        "model_crf.to(device)\n",
        "optimizer_crf = torch.optim.Adam(model_crf.parameters(), lr=0.001)\n",
        "\n",
        "print(model_crf)"
      ],
      "metadata": {
        "id": "pUdXwgsjLXdv",
        "colab": {
          "base_uri": "https://localhost:8080/"
        },
        "outputId": "ae260d25-6bd0-4715-c0a1-57b49b42e777"
      },
      "execution_count": null,
      "outputs": [
        {
          "output_type": "stream",
          "name": "stdout",
          "text": [
            "BiLSTM_CRF_NER(\n",
            "  (embedding): Embedding(68771, 100, padding_idx=0)\n",
            "  (lstm): LSTM(100, 128, batch_first=True, bidirectional=True)\n",
            "  (fc): Linear(in_features=256, out_features=4, bias=True)\n",
            "  (crf): CRF(num_tags=4)\n",
            ")\n"
          ]
        }
      ]
    },
    {
      "cell_type": "code",
      "source": [
        "def train_epoch_crf(model, data_loader, optimizer, device):\n",
        "    model.train()\n",
        "    total_loss = 0\n",
        "\n",
        "    for inputs, labels in tqdm(data_loader, desc=\"Training\"):\n",
        "        inputs, labels = inputs.to(device), labels.to(device)\n",
        "        optimizer.zero_grad()\n",
        "\n",
        "        labels[labels == -100] = tag2id['O']\n",
        "\n",
        "        loss = model(inputs, tags=labels)\n",
        "        loss.backward()\n",
        "        optimizer.step()\n",
        "        total_loss += loss.item()\n",
        "\n",
        "    return total_loss / len(data_loader)\n",
        "\n",
        "\n",
        "def evaluate_crf(model, data_loader, device, id2tag_map):\n",
        "    model.eval()\n",
        "    all_preds_iob = []\n",
        "    all_true_iob = []\n",
        "\n",
        "    with torch.no_grad():\n",
        "        for inputs, labels in tqdm(data_loader, desc=\"Evaluating\"):\n",
        "            inputs, labels = inputs.to(device), labels.to(device)\n",
        "\n",
        "            predicted_tag_ids_list = model(inputs)\n",
        "\n",
        "            for i in range(labels.shape[0]):\n",
        "                true_tags_ids = [label_id.item() for label_id in labels[i] if label_id != -100]\n",
        "\n",
        "                pred_tags_ids = predicted_tag_ids_list[i]\n",
        "                all_true_iob.append(to_iob(true_tags_ids, id2tag_map))\n",
        "                all_preds_iob.append(to_iob(pred_tags_ids, id2tag_map))\n",
        "\n",
        "    return classification_report(all_true_iob, all_preds_iob, output_dict=True, zero_division=0)\n",
        "\n",
        "history = {}\n",
        "history['Bi-LSTM'] = evaluate(model, test_loader, device, id2tag)\n",
        "\n",
        "\n",
        "for epoch in range(NUM_EPOCHS):\n",
        "    start_time = time.time()\n",
        "\n",
        "    avg_train_loss = train_epoch_crf(model_crf, train_loader, optimizer_crf, device)\n",
        "    report_crf = evaluate_crf(model_crf, test_loader, device, id2tag)\n",
        "\n",
        "    end_time = time.time()\n",
        "    epoch_mins, epoch_secs = divmod(end_time - start_time, 60)\n",
        "\n",
        "    print(f'\\nЭпоха: {epoch+1:02} | Время: {int(epoch_mins)}m {int(epoch_secs)}s')\n",
        "    print(f'\\tСредняя потеря на обучении: {avg_train_loss:.3f}')\n",
        "    print(\"\\tРезультаты на тестовой выборке (Bi-LSTM + CRF):\")\n",
        "\n",
        "    entity_types = ['PER', 'LOC', 'ORG']\n",
        "    for tag in entity_types:\n",
        "        if tag in report_crf:\n",
        "            metrics = report_crf[tag]\n",
        "            print(f\"\\t\\t{tag:<10} - \"\n",
        "                  f\"Precision: {metrics['precision']:.4f} | \"\n",
        "                  f\"Recall: {metrics['recall']:.4f} | \"\n",
        "                  f\"F1-score: {metrics['f1-score']:.4f}\")\n",
        "\n",
        "    if 'weighted avg' in report_crf:\n",
        "        weighted_avg = report_crf['weighted avg']\n",
        "        print(f\"\\t\\t{'Overall (Weighted)':<18} - \"\n",
        "              f\"Precision: {weighted_avg['precision']:.4f} | \"\n",
        "              f\"Recall: {weighted_avg['recall']:.4f} | \"\n",
        "              f\"F1-score: {weighted_avg['f1-score']:.4f}\")\n",
        "\n",
        "history['Bi-LSTM + CRF'] = report_crf"
      ],
      "metadata": {
        "id": "l2ZMPNBrLgen",
        "colab": {
          "base_uri": "https://localhost:8080/"
        },
        "outputId": "1ebca6a9-f003-4c9f-d4bb-716c0674fb99"
      },
      "execution_count": null,
      "outputs": [
        {
          "output_type": "stream",
          "name": "stderr",
          "text": [
            "Evaluating: 100%|██████████| 560/560 [00:28<00:00, 19.56it/s]\n",
            "Training: 100%|██████████| 5039/5039 [17:15<00:00,  4.86it/s]\n",
            "Evaluating: 100%|██████████| 560/560 [00:23<00:00, 23.39it/s]\n"
          ]
        },
        {
          "output_type": "stream",
          "name": "stdout",
          "text": [
            "\n",
            "Эпоха: 01 | Время: 17m 44s\n",
            "\tСредняя потеря на обучении: 3.206\n",
            "\tРезультаты на тестовой выборке (Bi-LSTM + CRF):\n",
            "\t\tPER        - Precision: 0.7437 | Recall: 0.4895 | F1-score: 0.5904\n",
            "\t\tLOC        - Precision: 0.7904 | Recall: 0.7197 | F1-score: 0.7534\n",
            "\t\tORG        - Precision: 0.7198 | Recall: 0.4559 | F1-score: 0.5583\n",
            "\t\tOverall (Weighted) - Precision: 0.7649 | Recall: 0.6081 | F1-score: 0.6730\n"
          ]
        },
        {
          "output_type": "stream",
          "name": "stderr",
          "text": [
            "Training: 100%|██████████| 5039/5039 [17:25<00:00,  4.82it/s]\n",
            "Evaluating: 100%|██████████| 560/560 [00:23<00:00, 23.66it/s]\n"
          ]
        },
        {
          "output_type": "stream",
          "name": "stdout",
          "text": [
            "\n",
            "Эпоха: 02 | Время: 17m 53s\n",
            "\tСредняя потеря на обучении: 1.488\n",
            "\tРезультаты на тестовой выборке (Bi-LSTM + CRF):\n",
            "\t\tPER        - Precision: 0.6910 | Recall: 0.6198 | F1-score: 0.6534\n",
            "\t\tLOC        - Precision: 0.8594 | Recall: 0.7512 | F1-score: 0.8017\n",
            "\t\tORG        - Precision: 0.7755 | Recall: 0.5686 | F1-score: 0.6561\n",
            "\t\tOverall (Weighted) - Precision: 0.7957 | Recall: 0.6822 | F1-score: 0.7338\n"
          ]
        },
        {
          "output_type": "stream",
          "name": "stderr",
          "text": [
            "Training: 100%|██████████| 5039/5039 [17:27<00:00,  4.81it/s]\n",
            "Evaluating: 100%|██████████| 560/560 [00:23<00:00, 23.66it/s]\n"
          ]
        },
        {
          "output_type": "stream",
          "name": "stdout",
          "text": [
            "\n",
            "Эпоха: 03 | Время: 17m 54s\n",
            "\tСредняя потеря на обучении: 1.022\n",
            "\tРезультаты на тестовой выборке (Bi-LSTM + CRF):\n",
            "\t\tPER        - Precision: 0.7357 | Recall: 0.6558 | F1-score: 0.6935\n",
            "\t\tLOC        - Precision: 0.8620 | Recall: 0.7822 | F1-score: 0.8201\n",
            "\t\tORG        - Precision: 0.7723 | Recall: 0.6214 | F1-score: 0.6887\n",
            "\t\tOverall (Weighted) - Precision: 0.8098 | Recall: 0.7183 | F1-score: 0.7610\n"
          ]
        }
      ]
    },
    {
      "cell_type": "markdown",
      "source": [
        "Теперь, когда мы обучили две архитектуры, давайте сравним их ключевую метрику — **F1-score** — чтобы понять, насколько добавление CRF-слоя улучшило нашу модель."
      ],
      "metadata": {
        "id": "hxgVXIN8Lx6z"
      }
    },
    {
      "cell_type": "code",
      "source": [
        "comparison_data = []\n",
        "for model_name, report in history.items():\n",
        "    for tag in ['PER', 'LOC', 'ORG']:\n",
        "        comparison_data.append({\n",
        "            'Model': model_name,\n",
        "            'Entity': tag,\n",
        "            'F1-score': report[tag]['f1-score']\n",
        "        })\n",
        "    comparison_data.append({\n",
        "        'Model': model_name,\n",
        "        'Entity': 'Overall (Weighted)',\n",
        "        'F1-score': report['weighted avg']['f1-score']\n",
        "    })\n",
        "\n",
        "df_comparison = pd.DataFrame(comparison_data)\n",
        "\n",
        "plt.figure(figsize=(12, 8))\n",
        "sns.barplot(x='Entity', y='F1-score', hue='Model', data=df_comparison)\n",
        "plt.title('Сравнение F1-score для моделей Bi-LSTM и Bi-LSTM + CRF', fontsize=16)\n",
        "plt.xlabel('Тип сущности', fontsize=12)\n",
        "plt.ylabel('F1-score', fontsize=12)\n",
        "plt.legend(title='Модель')\n",
        "plt.grid(axis='y', linestyle='--', alpha=0.7)\n",
        "plt.show()"
      ],
      "metadata": {
        "id": "V8h6P_RGLyo3",
        "colab": {
          "base_uri": "https://localhost:8080/",
          "height": 725
        },
        "outputId": "5e8230c0-3ba1-42ec-9cf5-30e8e5defd9b"
      },
      "execution_count": null,
      "outputs": [
        {
          "output_type": "display_data",
          "data": {
            "text/plain": [
              "<Figure size 1200x800 with 1 Axes>"
            ],
            "image/png": "[encoded data removed]"
          },
          "metadata": {}
        }
      ]
    },
    {
      "cell_type": "markdown",
      "source": [
        "Модель Bi-LSTM + CRF показала наилучшие результаты. Сохраним именно её веса."
      ],
      "metadata": {
        "id": "OF_gTS5jL4rS"
      }
    },
    {
      "cell_type": "code",
      "source": [
        "model_save_path = 'bilstm_crf_ner_model.pt'\n",
        "torch.save(model_crf.state_dict(), model_save_path)\n",
        "\n",
        "print(f\"Веса сохранены: {model_save_path}\")"
      ],
      "metadata": {
        "id": "wlRVaTuIL2l-",
        "colab": {
          "base_uri": "https://localhost:8080/"
        },
        "outputId": "5de3857d-f124-493a-ba26-ab74954d0da5"
      },
      "execution_count": 26,
      "outputs": [
        {
          "output_type": "stream",
          "name": "stdout",
          "text": [
            "Веса сохранены: bilstm_crf_ner_model.pt\n"
          ]
        }
      ]
    },
    {
      "cell_type": "markdown",
      "source": [
        "Для дальнейшего улучшения качества модели можно сделать следующее:\n",
        "*   **Использование предобученных эмбеддингов:** Инициализация слоя `Embedding` с помощью предобученных векторов (например, Word2Vec или fastText), обученных на больших корпусах русского языка.\n",
        "\n",
        "*   **Применение более сложных архитектур:** Использование трансформерных моделей, которые могут показать значительно более высокое качество, но это оставим для следующих работ."
      ],
      "metadata": {
        "id": "7S9cBUQY-x5W"
      }
    }
  ]
}